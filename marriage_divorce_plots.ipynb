{
 "cells": [
  {
   "cell_type": "code",
   "execution_count": 75,
   "metadata": {},
   "outputs": [],
   "source": [
    "import src.dataset as dataset\n",
    "import logging\n",
    "import pandas as pd"
   ]
  },
  {
   "cell_type": "code",
   "execution_count": 76,
   "metadata": {},
   "outputs": [
    {
     "name": "stdout",
     "output_type": "stream",
     "text": [
      "Warning: Looks like you're using an outdated `kagglehub` version, please consider updating (latest version: 0.3.4)\n"
     ]
    }
   ],
   "source": [
    "M_D = dataset.MarriageDataset.from_kaggle()\n",
    "marriage = M_D['DATA1']"
   ]
  },
  {
   "cell_type": "code",
   "execution_count": 77,
   "metadata": {},
   "outputs": [],
   "source": [
    "marriage.rename(columns={'Country/region': 'country'}, inplace=True)"
   ]
  },
  {
   "cell_type": "code",
   "execution_count": 78,
   "metadata": {},
   "outputs": [
    {
     "data": {
      "text/html": [
       "<div>\n",
       "<style scoped>\n",
       "    .dataframe tbody tr th:only-of-type {\n",
       "        vertical-align: middle;\n",
       "    }\n",
       "\n",
       "    .dataframe tbody tr th {\n",
       "        vertical-align: top;\n",
       "    }\n",
       "\n",
       "    .dataframe thead th {\n",
       "        text-align: right;\n",
       "    }\n",
       "</style>\n",
       "<table border=\"1\" class=\"dataframe\">\n",
       "  <thead>\n",
       "    <tr style=\"text-align: right;\">\n",
       "      <th></th>\n",
       "      <th>country</th>\n",
       "      <th>Continent</th>\n",
       "      <th>Marriage</th>\n",
       "      <th>Divorce</th>\n",
       "      <th>Actual</th>\n",
       "      <th>Percent</th>\n",
       "      <th>Data Source Year</th>\n",
       "    </tr>\n",
       "  </thead>\n",
       "  <tbody>\n",
       "    <tr>\n",
       "      <th>0</th>\n",
       "      <td>Albania</td>\n",
       "      <td>Europe</td>\n",
       "      <td>8.1</td>\n",
       "      <td>1.7</td>\n",
       "      <td>4.76</td>\n",
       "      <td>20.99</td>\n",
       "      <td>(2018)</td>\n",
       "    </tr>\n",
       "    <tr>\n",
       "      <th>1</th>\n",
       "      <td>Algeria</td>\n",
       "      <td>Africa</td>\n",
       "      <td>10.1</td>\n",
       "      <td>1.6</td>\n",
       "      <td>6.31</td>\n",
       "      <td>15.84</td>\n",
       "      <td>(2013)</td>\n",
       "    </tr>\n",
       "    <tr>\n",
       "      <th>2</th>\n",
       "      <td>Armenia</td>\n",
       "      <td>Europe</td>\n",
       "      <td>6.0</td>\n",
       "      <td>1.0</td>\n",
       "      <td>6.00</td>\n",
       "      <td>16.67</td>\n",
       "      <td>(2011)</td>\n",
       "    </tr>\n",
       "    <tr>\n",
       "      <th>3</th>\n",
       "      <td>Australia</td>\n",
       "      <td>Oceania</td>\n",
       "      <td>4.6</td>\n",
       "      <td>2.0</td>\n",
       "      <td>2.30</td>\n",
       "      <td>43.48</td>\n",
       "      <td>(2017)</td>\n",
       "    </tr>\n",
       "    <tr>\n",
       "      <th>4</th>\n",
       "      <td>Austria</td>\n",
       "      <td>Europe</td>\n",
       "      <td>5.3</td>\n",
       "      <td>1.8</td>\n",
       "      <td>2.94</td>\n",
       "      <td>33.96</td>\n",
       "      <td>(2018)</td>\n",
       "    </tr>\n",
       "    <tr>\n",
       "      <th>...</th>\n",
       "      <td>...</td>\n",
       "      <td>...</td>\n",
       "      <td>...</td>\n",
       "      <td>...</td>\n",
       "      <td>...</td>\n",
       "      <td>...</td>\n",
       "      <td>...</td>\n",
       "    </tr>\n",
       "    <tr>\n",
       "      <th>100</th>\n",
       "      <td>United States</td>\n",
       "      <td>North America</td>\n",
       "      <td>5.1</td>\n",
       "      <td>2.3</td>\n",
       "      <td>2.22</td>\n",
       "      <td>45.10</td>\n",
       "      <td>(2020)</td>\n",
       "    </tr>\n",
       "    <tr>\n",
       "      <th>101</th>\n",
       "      <td>Uruguay</td>\n",
       "      <td>South America</td>\n",
       "      <td>3.2</td>\n",
       "      <td>NaN</td>\n",
       "      <td>NaN</td>\n",
       "      <td>NaN</td>\n",
       "      <td>(2010)</td>\n",
       "    </tr>\n",
       "    <tr>\n",
       "      <th>102</th>\n",
       "      <td>Uzbekistan</td>\n",
       "      <td>Asia</td>\n",
       "      <td>7.8</td>\n",
       "      <td>1.1</td>\n",
       "      <td>7.09</td>\n",
       "      <td>14.10</td>\n",
       "      <td>(2006)</td>\n",
       "    </tr>\n",
       "    <tr>\n",
       "      <th>103</th>\n",
       "      <td>Venezuela</td>\n",
       "      <td>South America</td>\n",
       "      <td>3.3</td>\n",
       "      <td>1.2</td>\n",
       "      <td>2.75</td>\n",
       "      <td>36.36</td>\n",
       "      <td>(2006)</td>\n",
       "    </tr>\n",
       "    <tr>\n",
       "      <th>104</th>\n",
       "      <td>Vietnam</td>\n",
       "      <td>Asia</td>\n",
       "      <td>5.7</td>\n",
       "      <td>0.4</td>\n",
       "      <td>14.25</td>\n",
       "      <td>7.02</td>\n",
       "      <td>(2015)</td>\n",
       "    </tr>\n",
       "  </tbody>\n",
       "</table>\n",
       "<p>105 rows × 7 columns</p>\n",
       "</div>"
      ],
      "text/plain": [
       "           country      Continent  Marriage  Divorce  Actual  Percent  \\\n",
       "0          Albania         Europe       8.1      1.7    4.76    20.99   \n",
       "1          Algeria         Africa      10.1      1.6    6.31    15.84   \n",
       "2          Armenia         Europe       6.0      1.0    6.00    16.67   \n",
       "3        Australia        Oceania       4.6      2.0    2.30    43.48   \n",
       "4          Austria         Europe       5.3      1.8    2.94    33.96   \n",
       "..             ...            ...       ...      ...     ...      ...   \n",
       "100  United States  North America       5.1      2.3    2.22    45.10   \n",
       "101        Uruguay  South America       3.2      NaN     NaN      NaN   \n",
       "102     Uzbekistan           Asia       7.8      1.1    7.09    14.10   \n",
       "103      Venezuela  South America       3.3      1.2    2.75    36.36   \n",
       "104        Vietnam           Asia       5.7      0.4   14.25     7.02   \n",
       "\n",
       "    Data Source Year  \n",
       "0             (2018)  \n",
       "1             (2013)  \n",
       "2             (2011)  \n",
       "3             (2017)  \n",
       "4             (2018)  \n",
       "..               ...  \n",
       "100           (2020)  \n",
       "101           (2010)  \n",
       "102           (2006)  \n",
       "103           (2006)  \n",
       "104           (2015)  \n",
       "\n",
       "[105 rows x 7 columns]"
      ]
     },
     "execution_count": 78,
     "metadata": {},
     "output_type": "execute_result"
    }
   ],
   "source": [
    "marriage"
   ]
  },
  {
   "cell_type": "code",
   "execution_count": 79,
   "metadata": {},
   "outputs": [
    {
     "name": "stdout",
     "output_type": "stream",
     "text": [
      "Warning: Looks like you're using an outdated `kagglehub` version, please consider updating (latest version: 0.3.4)\n"
     ]
    }
   ],
   "source": [
    "HAPPY = dataset.HappinessDataset.from_kaggle()\n",
    "happiness_data = HAPPY[2023]"
   ]
  },
  {
   "cell_type": "code",
   "execution_count": 80,
   "metadata": {},
   "outputs": [],
   "source": [
    "marriage_happiness = pd.merge(marriage, happiness_data, on='country')"
   ]
  },
  {
   "cell_type": "code",
   "execution_count": 81,
   "metadata": {},
   "outputs": [
    {
     "data": {
      "text/html": [
       "<div>\n",
       "<style scoped>\n",
       "    .dataframe tbody tr th:only-of-type {\n",
       "        vertical-align: middle;\n",
       "    }\n",
       "\n",
       "    .dataframe tbody tr th {\n",
       "        vertical-align: top;\n",
       "    }\n",
       "\n",
       "    .dataframe thead th {\n",
       "        text-align: right;\n",
       "    }\n",
       "</style>\n",
       "<table border=\"1\" class=\"dataframe\">\n",
       "  <thead>\n",
       "    <tr style=\"text-align: right;\">\n",
       "      <th></th>\n",
       "      <th>country</th>\n",
       "      <th>Continent</th>\n",
       "      <th>Marriage</th>\n",
       "      <th>Divorce</th>\n",
       "      <th>Actual</th>\n",
       "      <th>Percent</th>\n",
       "      <th>Data Source Year</th>\n",
       "      <th>region</th>\n",
       "      <th>happiness_score</th>\n",
       "      <th>gdp_per_capita</th>\n",
       "      <th>social_support</th>\n",
       "      <th>healthy_life_expectancy</th>\n",
       "      <th>freedom_to_make_life_choices</th>\n",
       "      <th>generosity</th>\n",
       "      <th>perceptions_of_corruption</th>\n",
       "    </tr>\n",
       "  </thead>\n",
       "  <tbody>\n",
       "    <tr>\n",
       "      <th>0</th>\n",
       "      <td>Albania</td>\n",
       "      <td>Europe</td>\n",
       "      <td>8.1</td>\n",
       "      <td>1.7</td>\n",
       "      <td>4.76</td>\n",
       "      <td>20.99</td>\n",
       "      <td>(2018)</td>\n",
       "      <td>Central and Eastern Europe</td>\n",
       "      <td>5.277</td>\n",
       "      <td>1.449</td>\n",
       "      <td>0.951</td>\n",
       "      <td>0.480</td>\n",
       "      <td>0.549</td>\n",
       "      <td>0.133</td>\n",
       "      <td>0.037</td>\n",
       "    </tr>\n",
       "    <tr>\n",
       "      <th>1</th>\n",
       "      <td>Algeria</td>\n",
       "      <td>Africa</td>\n",
       "      <td>10.1</td>\n",
       "      <td>1.6</td>\n",
       "      <td>6.31</td>\n",
       "      <td>15.84</td>\n",
       "      <td>(2013)</td>\n",
       "      <td>Middle East and North Africa</td>\n",
       "      <td>5.329</td>\n",
       "      <td>1.353</td>\n",
       "      <td>1.298</td>\n",
       "      <td>0.409</td>\n",
       "      <td>0.252</td>\n",
       "      <td>0.073</td>\n",
       "      <td>0.152</td>\n",
       "    </tr>\n",
       "    <tr>\n",
       "      <th>2</th>\n",
       "      <td>Armenia</td>\n",
       "      <td>Europe</td>\n",
       "      <td>6.0</td>\n",
       "      <td>1.0</td>\n",
       "      <td>6.00</td>\n",
       "      <td>16.67</td>\n",
       "      <td>(2011)</td>\n",
       "      <td>Central and Eastern Europe</td>\n",
       "      <td>5.342</td>\n",
       "      <td>1.466</td>\n",
       "      <td>1.134</td>\n",
       "      <td>0.443</td>\n",
       "      <td>0.551</td>\n",
       "      <td>0.053</td>\n",
       "      <td>0.160</td>\n",
       "    </tr>\n",
       "    <tr>\n",
       "      <th>3</th>\n",
       "      <td>Australia</td>\n",
       "      <td>Oceania</td>\n",
       "      <td>4.6</td>\n",
       "      <td>2.0</td>\n",
       "      <td>2.30</td>\n",
       "      <td>43.48</td>\n",
       "      <td>(2017)</td>\n",
       "      <td>North America and ANZ</td>\n",
       "      <td>7.095</td>\n",
       "      <td>1.899</td>\n",
       "      <td>1.497</td>\n",
       "      <td>0.532</td>\n",
       "      <td>0.677</td>\n",
       "      <td>0.242</td>\n",
       "      <td>0.310</td>\n",
       "    </tr>\n",
       "    <tr>\n",
       "      <th>4</th>\n",
       "      <td>Austria</td>\n",
       "      <td>Europe</td>\n",
       "      <td>5.3</td>\n",
       "      <td>1.8</td>\n",
       "      <td>2.94</td>\n",
       "      <td>33.96</td>\n",
       "      <td>(2018)</td>\n",
       "      <td>Western Europe</td>\n",
       "      <td>7.097</td>\n",
       "      <td>1.927</td>\n",
       "      <td>1.382</td>\n",
       "      <td>0.535</td>\n",
       "      <td>0.630</td>\n",
       "      <td>0.191</td>\n",
       "      <td>0.310</td>\n",
       "    </tr>\n",
       "    <tr>\n",
       "      <th>...</th>\n",
       "      <td>...</td>\n",
       "      <td>...</td>\n",
       "      <td>...</td>\n",
       "      <td>...</td>\n",
       "      <td>...</td>\n",
       "      <td>...</td>\n",
       "      <td>...</td>\n",
       "      <td>...</td>\n",
       "      <td>...</td>\n",
       "      <td>...</td>\n",
       "      <td>...</td>\n",
       "      <td>...</td>\n",
       "      <td>...</td>\n",
       "      <td>...</td>\n",
       "      <td>...</td>\n",
       "    </tr>\n",
       "    <tr>\n",
       "      <th>76</th>\n",
       "      <td>United States</td>\n",
       "      <td>North America</td>\n",
       "      <td>5.1</td>\n",
       "      <td>2.3</td>\n",
       "      <td>2.22</td>\n",
       "      <td>45.10</td>\n",
       "      <td>(2020)</td>\n",
       "      <td>North America and ANZ</td>\n",
       "      <td>6.894</td>\n",
       "      <td>1.980</td>\n",
       "      <td>1.460</td>\n",
       "      <td>0.390</td>\n",
       "      <td>0.557</td>\n",
       "      <td>0.210</td>\n",
       "      <td>0.172</td>\n",
       "    </tr>\n",
       "    <tr>\n",
       "      <th>77</th>\n",
       "      <td>Uruguay</td>\n",
       "      <td>South America</td>\n",
       "      <td>3.2</td>\n",
       "      <td>NaN</td>\n",
       "      <td>NaN</td>\n",
       "      <td>NaN</td>\n",
       "      <td>(2010)</td>\n",
       "      <td>Latin America and Caribbean</td>\n",
       "      <td>6.494</td>\n",
       "      <td>1.617</td>\n",
       "      <td>1.445</td>\n",
       "      <td>0.435</td>\n",
       "      <td>0.683</td>\n",
       "      <td>0.102</td>\n",
       "      <td>0.254</td>\n",
       "    </tr>\n",
       "    <tr>\n",
       "      <th>78</th>\n",
       "      <td>Uzbekistan</td>\n",
       "      <td>Asia</td>\n",
       "      <td>7.8</td>\n",
       "      <td>1.1</td>\n",
       "      <td>7.09</td>\n",
       "      <td>14.10</td>\n",
       "      <td>(2006)</td>\n",
       "      <td>Commonwealth of Independent States</td>\n",
       "      <td>6.014</td>\n",
       "      <td>1.227</td>\n",
       "      <td>1.347</td>\n",
       "      <td>0.375</td>\n",
       "      <td>0.740</td>\n",
       "      <td>0.260</td>\n",
       "      <td>0.208</td>\n",
       "    </tr>\n",
       "    <tr>\n",
       "      <th>79</th>\n",
       "      <td>Venezuela</td>\n",
       "      <td>South America</td>\n",
       "      <td>3.3</td>\n",
       "      <td>1.2</td>\n",
       "      <td>2.75</td>\n",
       "      <td>36.36</td>\n",
       "      <td>(2006)</td>\n",
       "      <td>Latin America and Caribbean</td>\n",
       "      <td>5.211</td>\n",
       "      <td>0.000</td>\n",
       "      <td>1.257</td>\n",
       "      <td>0.341</td>\n",
       "      <td>0.369</td>\n",
       "      <td>0.205</td>\n",
       "      <td>0.084</td>\n",
       "    </tr>\n",
       "    <tr>\n",
       "      <th>80</th>\n",
       "      <td>Vietnam</td>\n",
       "      <td>Asia</td>\n",
       "      <td>5.7</td>\n",
       "      <td>0.4</td>\n",
       "      <td>14.25</td>\n",
       "      <td>7.02</td>\n",
       "      <td>(2015)</td>\n",
       "      <td>Southeast Asia</td>\n",
       "      <td>5.763</td>\n",
       "      <td>1.349</td>\n",
       "      <td>1.212</td>\n",
       "      <td>0.381</td>\n",
       "      <td>0.741</td>\n",
       "      <td>0.134</td>\n",
       "      <td>0.122</td>\n",
       "    </tr>\n",
       "  </tbody>\n",
       "</table>\n",
       "<p>81 rows × 15 columns</p>\n",
       "</div>"
      ],
      "text/plain": [
       "          country      Continent  Marriage  Divorce  Actual  Percent  \\\n",
       "0         Albania         Europe       8.1      1.7    4.76    20.99   \n",
       "1         Algeria         Africa      10.1      1.6    6.31    15.84   \n",
       "2         Armenia         Europe       6.0      1.0    6.00    16.67   \n",
       "3       Australia        Oceania       4.6      2.0    2.30    43.48   \n",
       "4         Austria         Europe       5.3      1.8    2.94    33.96   \n",
       "..            ...            ...       ...      ...     ...      ...   \n",
       "76  United States  North America       5.1      2.3    2.22    45.10   \n",
       "77        Uruguay  South America       3.2      NaN     NaN      NaN   \n",
       "78     Uzbekistan           Asia       7.8      1.1    7.09    14.10   \n",
       "79      Venezuela  South America       3.3      1.2    2.75    36.36   \n",
       "80        Vietnam           Asia       5.7      0.4   14.25     7.02   \n",
       "\n",
       "   Data Source Year                              region  happiness_score  \\\n",
       "0            (2018)          Central and Eastern Europe            5.277   \n",
       "1            (2013)        Middle East and North Africa            5.329   \n",
       "2            (2011)          Central and Eastern Europe            5.342   \n",
       "3            (2017)               North America and ANZ            7.095   \n",
       "4            (2018)                      Western Europe            7.097   \n",
       "..              ...                                 ...              ...   \n",
       "76           (2020)               North America and ANZ            6.894   \n",
       "77           (2010)         Latin America and Caribbean            6.494   \n",
       "78           (2006)  Commonwealth of Independent States            6.014   \n",
       "79           (2006)         Latin America and Caribbean            5.211   \n",
       "80           (2015)                      Southeast Asia            5.763   \n",
       "\n",
       "    gdp_per_capita  social_support  healthy_life_expectancy  \\\n",
       "0            1.449           0.951                    0.480   \n",
       "1            1.353           1.298                    0.409   \n",
       "2            1.466           1.134                    0.443   \n",
       "3            1.899           1.497                    0.532   \n",
       "4            1.927           1.382                    0.535   \n",
       "..             ...             ...                      ...   \n",
       "76           1.980           1.460                    0.390   \n",
       "77           1.617           1.445                    0.435   \n",
       "78           1.227           1.347                    0.375   \n",
       "79           0.000           1.257                    0.341   \n",
       "80           1.349           1.212                    0.381   \n",
       "\n",
       "    freedom_to_make_life_choices  generosity  perceptions_of_corruption  \n",
       "0                          0.549       0.133                      0.037  \n",
       "1                          0.252       0.073                      0.152  \n",
       "2                          0.551       0.053                      0.160  \n",
       "3                          0.677       0.242                      0.310  \n",
       "4                          0.630       0.191                      0.310  \n",
       "..                           ...         ...                        ...  \n",
       "76                         0.557       0.210                      0.172  \n",
       "77                         0.683       0.102                      0.254  \n",
       "78                         0.740       0.260                      0.208  \n",
       "79                         0.369       0.205                      0.084  \n",
       "80                         0.741       0.134                      0.122  \n",
       "\n",
       "[81 rows x 15 columns]"
      ]
     },
     "execution_count": 81,
     "metadata": {},
     "output_type": "execute_result"
    }
   ],
   "source": [
    "marriage_happiness"
   ]
  },
  {
   "cell_type": "code",
   "execution_count": 82,
   "metadata": {},
   "outputs": [
    {
     "name": "stdout",
     "output_type": "stream",
     "text": [
      "                              Marriage   Divorce    Actual   Percent  \\\n",
      "Marriage                      1.000000  0.149512  0.499105 -0.516858   \n",
      "Divorce                       0.149512  1.000000 -0.624849  0.631972   \n",
      "Actual                        0.499105 -0.624849  1.000000 -0.792584   \n",
      "Percent                      -0.516858  0.631972 -0.792584  1.000000   \n",
      "happiness_score              -0.442043  0.234482 -0.400480  0.366349   \n",
      "gdp_per_capita               -0.298875  0.296131 -0.402465  0.385495   \n",
      "social_support               -0.382767  0.240014 -0.372874  0.378283   \n",
      "healthy_life_expectancy      -0.293309  0.194256 -0.382428  0.374381   \n",
      "freedom_to_make_life_choices -0.278214  0.027385 -0.083661  0.159722   \n",
      "generosity                   -0.090766  0.008576 -0.019652  0.020630   \n",
      "perceptions_of_corruption    -0.096220  0.216770 -0.202662  0.231869   \n",
      "\n",
      "                              happiness_score  gdp_per_capita  social_support  \\\n",
      "Marriage                            -0.442043       -0.298875       -0.382767   \n",
      "Divorce                              0.234482        0.296131        0.240014   \n",
      "Actual                              -0.400480       -0.402465       -0.372874   \n",
      "Percent                              0.366349        0.385495        0.378283   \n",
      "happiness_score                      1.000000        0.626171        0.783984   \n",
      "gdp_per_capita                       0.626171        1.000000        0.440651   \n",
      "social_support                       0.783984        0.440651        1.000000   \n",
      "healthy_life_expectancy              0.535168        0.632928        0.316526   \n",
      "freedom_to_make_life_choices         0.655162        0.326619        0.476962   \n",
      "generosity                           0.367505        0.102510        0.395801   \n",
      "perceptions_of_corruption            0.569049        0.483215        0.298202   \n",
      "\n",
      "                              healthy_life_expectancy  \\\n",
      "Marriage                                    -0.293309   \n",
      "Divorce                                      0.194256   \n",
      "Actual                                      -0.382428   \n",
      "Percent                                      0.374381   \n",
      "happiness_score                              0.535168   \n",
      "gdp_per_capita                               0.632928   \n",
      "social_support                               0.316526   \n",
      "healthy_life_expectancy                      1.000000   \n",
      "freedom_to_make_life_choices                 0.225192   \n",
      "generosity                                   0.084258   \n",
      "perceptions_of_corruption                    0.448022   \n",
      "\n",
      "                              freedom_to_make_life_choices  generosity  \\\n",
      "Marriage                                         -0.278214   -0.090766   \n",
      "Divorce                                           0.027385    0.008576   \n",
      "Actual                                           -0.083661   -0.019652   \n",
      "Percent                                           0.159722    0.020630   \n",
      "happiness_score                                   0.655162    0.367505   \n",
      "gdp_per_capita                                    0.326619    0.102510   \n",
      "social_support                                    0.476962    0.395801   \n",
      "healthy_life_expectancy                           0.225192    0.084258   \n",
      "freedom_to_make_life_choices                      1.000000    0.356430   \n",
      "generosity                                        0.356430    1.000000   \n",
      "perceptions_of_corruption                         0.486395    0.297338   \n",
      "\n",
      "                              perceptions_of_corruption  \n",
      "Marriage                                      -0.096220  \n",
      "Divorce                                        0.216770  \n",
      "Actual                                        -0.202662  \n",
      "Percent                                        0.231869  \n",
      "happiness_score                                0.569049  \n",
      "gdp_per_capita                                 0.483215  \n",
      "social_support                                 0.298202  \n",
      "healthy_life_expectancy                        0.448022  \n",
      "freedom_to_make_life_choices                   0.486395  \n",
      "generosity                                     0.297338  \n",
      "perceptions_of_corruption                      1.000000  \n"
     ]
    },
    {
     "data": {
      "image/png": "[encoded data removed]",
      "text/plain": [
       "<Figure size 1200x1000 with 2 Axes>"
      ]
     },
     "metadata": {},
     "output_type": "display_data"
    }
   ],
   "source": [
    "import pandas as pd\n",
    "import seaborn as sns\n",
    "import matplotlib.pyplot as plt\n",
    "\n",
    "# Assuming marriage_happiness is your DataFrame\n",
    "# Select the specified columns\n",
    "selected_columns = [\n",
    "    'Marriage', 'Divorce', 'Actual', 'Percent', 'happiness_score',\n",
    "    'gdp_per_capita', 'social_support', 'healthy_life_expectancy',\n",
    "    'freedom_to_make_life_choices', 'generosity', 'perceptions_of_corruption'\n",
    "]\n",
    "\n",
    "# Ensure only the numeric columns are used for correlation calculation\n",
    "numeric_columns = [\n",
    "    'Marriage', 'Divorce', 'Actual', 'Percent', 'happiness_score',\n",
    "    'gdp_per_capita', 'social_support', 'healthy_life_expectancy',\n",
    "    'freedom_to_make_life_choices', 'generosity', 'perceptions_of_corruption'\n",
    "]\n",
    "\n",
    "# Select only the numeric columns for correlation calculation\n",
    "numeric_df = marriage_happiness[numeric_columns]\n",
    "# Calculate the correlation matrix\n",
    "correlation_matrix = numeric_df.corr()\n",
    "\n",
    "# Display the correlation matrix\n",
    "print(correlation_matrix)\n",
    "# Plot the heatmap\n",
    "plt.figure(figsize=(12, 10))\n",
    "sns.heatmap(correlation_matrix, annot=True, cmap='coolwarm', fmt='.2f')\n",
    "plt.title('Correlation Heatmap of Selected Variables')\n",
    "plt.show()"
   ]
  },
  {
   "cell_type": "code",
   "execution_count": 54,
   "metadata": {},
   "outputs": [
    {
     "data": {
      "application/vnd.plotly.v1+json": {
       "config": {
        "plotlyServerURL": "https://plot.ly"
       },
       "data": [
        {
         "coloraxis": "coloraxis",
         "hovertemplate": "x: %{x}<br>y: %{y}<br>color: %{z}<extra></extra>",
         "name": "0",
         "texttemplate": "%{z}",
         "type": "heatmap",
         "x": [
          "Marriage",
          "Divorce",
          "Actual",
          "Percent",
          "happiness_score",
          "gdp_per_capita",
          "social_support",
          "healthy_life_expectancy",
          "freedom_to_make_life_choices",
          "generosity",
          "perceptions_of_corruption"
         ],
         "xaxis": "x",
         "y": [
          "Marriage",
          "Divorce",
          "Actual",
          "Percent",
          "happiness_score",
          "gdp_per_capita",
          "social_support",
          "healthy_life_expectancy",
          "freedom_to_make_life_choices",
          "generosity",
          "perceptions_of_corruption"
         ],
         "yaxis": "y",
         "z": [
          [
           1,
           0.14951200306068005,
           0.4991050287308402,
           -0.5168576308331587,
           -0.4420433839119533,
           -0.29887529605195756,
           -0.3827667370495779,
           -0.2933090008886551,
           -0.2782140324321599,
           -0.09076598098044367,
           -0.09621957297913313
          ],
          [
           0.14951200306068005,
           1,
           -0.6248486136000553,
           0.6319717622676172,
           0.23448233526837428,
           0.29613148827890784,
           0.24001443977093503,
           0.19425637871727972,
           0.027385162404192386,
           0.008575574089192815,
           0.21677042390919404
          ],
          [
           0.4991050287308402,
           -0.6248486136000553,
           1,
           -0.7925840456322623,
           -0.4004798599370619,
           -0.40246531778371014,
           -0.37287396558661634,
           -0.38242799583909876,
           -0.08366073036034676,
           -0.019652119493449624,
           -0.20266188178478534
          ],
          [
           -0.5168576308331587,
           0.6319717622676172,
           -0.7925840456322623,
           1,
           0.3663492257614247,
           0.38549515753587865,
           0.378283355889188,
           0.3743809019879003,
           0.15972219842970625,
           0.020629640451130613,
           0.23186947096257707
          ],
          [
           -0.4420433839119533,
           0.23448233526837428,
           -0.4004798599370619,
           0.3663492257614247,
           1,
           0.6261706635506838,
           0.7839844778691191,
           0.5351677896767494,
           0.6551620631217787,
           0.36750494572558956,
           0.5690492749486348
          ],
          [
           -0.29887529605195756,
           0.29613148827890784,
           -0.40246531778371014,
           0.38549515753587865,
           0.6261706635506838,
           1,
           0.44065070023057173,
           0.6329282229118434,
           0.3266185960447478,
           0.10251013202174487,
           0.4832150072143499
          ],
          [
           -0.3827667370495779,
           0.24001443977093503,
           -0.37287396558661634,
           0.378283355889188,
           0.7839844778691191,
           0.44065070023057173,
           1,
           0.3165262266851081,
           0.4769623761199614,
           0.395800875691722,
           0.29820231756960836
          ],
          [
           -0.2933090008886551,
           0.19425637871727972,
           -0.38242799583909876,
           0.3743809019879003,
           0.5351677896767494,
           0.6329282229118434,
           0.3165262266851081,
           1,
           0.22519208011118774,
           0.08425822460070834,
           0.44802226409315954
          ],
          [
           -0.2782140324321599,
           0.027385162404192386,
           -0.08366073036034676,
           0.15972219842970625,
           0.6551620631217787,
           0.3266185960447478,
           0.4769623761199614,
           0.22519208011118774,
           1,
           0.35642978008907383,
           0.4863950077991513
          ],
          [
           -0.09076598098044367,
           0.008575574089192815,
           -0.019652119493449624,
           0.020629640451130613,
           0.36750494572558956,
           0.10251013202174487,
           0.395800875691722,
           0.08425822460070834,
           0.35642978008907383,
           1,
           0.2973376874295032
          ],
          [
           -0.09621957297913313,
           0.21677042390919404,
           -0.20266188178478534,
           0.23186947096257707,
           0.5690492749486348,
           0.4832150072143499,
           0.29820231756960836,
           0.44802226409315954,
           0.4863950077991513,
           0.2973376874295032,
           1
          ]
         ]
        }
       ],
       "layout": {
        "coloraxis": {
         "cmax": 1,
         "cmin": -1,
         "colorscale": [
          [
           0,
           "rgb(103,0,31)"
          ],
          [
           0.1,
           "rgb(178,24,43)"
          ],
          [
           0.2,
           "rgb(214,96,77)"
          ],
          [
           0.3,
           "rgb(244,165,130)"
          ],
          [
           0.4,
           "rgb(253,219,199)"
          ],
          [
           0.5,
           "rgb(247,247,247)"
          ],
          [
           0.6,
           "rgb(209,229,240)"
          ],
          [
           0.7,
           "rgb(146,197,222)"
          ],
          [
           0.8,
           "rgb(67,147,195)"
          ],
          [
           0.9,
           "rgb(33,102,172)"
          ],
          [
           1,
           "rgb(5,48,97)"
          ]
         ]
        },
        "template": {
         "data": {
          "bar": [
           {
            "error_x": {
             "color": "#2a3f5f"
            },
            "error_y": {
             "color": "#2a3f5f"
            },
            "marker": {
             "line": {
              "color": "#E5ECF6",
              "width": 0.5
             },
             "pattern": {
              "fillmode": "overlay",
              "size": 10,
              "solidity": 0.2
             }
            },
            "type": "bar"
           }
          ],
          "barpolar": [
           {
            "marker": {
             "line": {
              "color": "#E5ECF6",
              "width": 0.5
             },
             "pattern": {
              "fillmode": "overlay",
              "size": 10,
              "solidity": 0.2
             }
            },
            "type": "barpolar"
           }
          ],
          "carpet": [
           {
            "aaxis": {
             "endlinecolor": "#2a3f5f",
             "gridcolor": "white",
             "linecolor": "white",
             "minorgridcolor": "white",
             "startlinecolor": "#2a3f5f"
            },
            "baxis": {
             "endlinecolor": "#2a3f5f",
             "gridcolor": "white",
             "linecolor": "white",
             "minorgridcolor": "white",
             "startlinecolor": "#2a3f5f"
            },
            "type": "carpet"
           }
          ],
          "choropleth": [
           {
            "colorbar": {
             "outlinewidth": 0,
             "ticks": ""
            },
            "type": "choropleth"
           }
          ],
          "contour": [
           {
            "colorbar": {
             "outlinewidth": 0,
             "ticks": ""
            },
            "colorscale": [
             [
              0,
              "#0d0887"
             ],
             [
              0.1111111111111111,
              "#46039f"
             ],
             [
              0.2222222222222222,
              "#7201a8"
             ],
             [
              0.3333333333333333,
              "#9c179e"
             ],
             [
              0.4444444444444444,
              "#bd3786"
             ],
             [
              0.5555555555555556,
              "#d8576b"
             ],
             [
              0.6666666666666666,
              "#ed7953"
             ],
             [
              0.7777777777777778,
              "#fb9f3a"
             ],
             [
              0.8888888888888888,
              "#fdca26"
             ],
             [
              1,
              "#f0f921"
             ]
            ],
            "type": "contour"
           }
          ],
          "contourcarpet": [
           {
            "colorbar": {
             "outlinewidth": 0,
             "ticks": ""
            },
            "type": "contourcarpet"
           }
          ],
          "heatmap": [
           {
            "colorbar": {
             "outlinewidth": 0,
             "ticks": ""
            },
            "colorscale": [
             [
              0,
              "#0d0887"
             ],
             [
              0.1111111111111111,
              "#46039f"
             ],
             [
              0.2222222222222222,
              "#7201a8"
             ],
             [
              0.3333333333333333,
              "#9c179e"
             ],
             [
              0.4444444444444444,
              "#bd3786"
             ],
             [
              0.5555555555555556,
              "#d8576b"
             ],
             [
              0.6666666666666666,
              "#ed7953"
             ],
             [
              0.7777777777777778,
              "#fb9f3a"
             ],
             [
              0.8888888888888888,
              "#fdca26"
             ],
             [
              1,
              "#f0f921"
             ]
            ],
            "type": "heatmap"
           }
          ],
          "heatmapgl": [
           {
            "colorbar": {
             "outlinewidth": 0,
             "ticks": ""
            },
            "colorscale": [
             [
              0,
              "#0d0887"
             ],
             [
              0.1111111111111111,
              "#46039f"
             ],
             [
              0.2222222222222222,
              "#7201a8"
             ],
             [
              0.3333333333333333,
              "#9c179e"
             ],
             [
              0.4444444444444444,
              "#bd3786"
             ],
             [
              0.5555555555555556,
              "#d8576b"
             ],
             [
              0.6666666666666666,
              "#ed7953"
             ],
             [
              0.7777777777777778,
              "#fb9f3a"
             ],
             [
              0.8888888888888888,
              "#fdca26"
             ],
             [
              1,
              "#f0f921"
             ]
            ],
            "type": "heatmapgl"
           }
          ],
          "histogram": [
           {
            "marker": {
             "pattern": {
              "fillmode": "overlay",
              "size": 10,
              "solidity": 0.2
             }
            },
            "type": "histogram"
           }
          ],
          "histogram2d": [
           {
            "colorbar": {
             "outlinewidth": 0,
             "ticks": ""
            },
            "colorscale": [
             [
              0,
              "#0d0887"
             ],
             [
              0.1111111111111111,
              "#46039f"
             ],
             [
              0.2222222222222222,
              "#7201a8"
             ],
             [
              0.3333333333333333,
              "#9c179e"
             ],
             [
              0.4444444444444444,
              "#bd3786"
             ],
             [
              0.5555555555555556,
              "#d8576b"
             ],
             [
              0.6666666666666666,
              "#ed7953"
             ],
             [
              0.7777777777777778,
              "#fb9f3a"
             ],
             [
              0.8888888888888888,
              "#fdca26"
             ],
             [
              1,
              "#f0f921"
             ]
            ],
            "type": "histogram2d"
           }
          ],
          "histogram2dcontour": [
           {
            "colorbar": {
             "outlinewidth": 0,
             "ticks": ""
            },
            "colorscale": [
             [
              0,
              "#0d0887"
             ],
             [
              0.1111111111111111,
              "#46039f"
             ],
             [
              0.2222222222222222,
              "#7201a8"
             ],
             [
              0.3333333333333333,
              "#9c179e"
             ],
             [
              0.4444444444444444,
              "#bd3786"
             ],
             [
              0.5555555555555556,
              "#d8576b"
             ],
             [
              0.6666666666666666,
              "#ed7953"
             ],
             [
              0.7777777777777778,
              "#fb9f3a"
             ],
             [
              0.8888888888888888,
              "#fdca26"
             ],
             [
              1,
              "#f0f921"
             ]
            ],
            "type": "histogram2dcontour"
           }
          ],
          "mesh3d": [
           {
            "colorbar": {
             "outlinewidth": 0,
             "ticks": ""
            },
            "type": "mesh3d"
           }
          ],
          "parcoords": [
           {
            "line": {
             "colorbar": {
              "outlinewidth": 0,
              "ticks": ""
             }
            },
            "type": "parcoords"
           }
          ],
          "pie": [
           {
            "automargin": true,
            "type": "pie"
           }
          ],
          "scatter": [
           {
            "fillpattern": {
             "fillmode": "overlay",
             "size": 10,
             "solidity": 0.2
            },
            "type": "scatter"
           }
          ],
          "scatter3d": [
           {
            "line": {
             "colorbar": {
              "outlinewidth": 0,
              "ticks": ""
             }
            },
            "marker": {
             "colorbar": {
              "outlinewidth": 0,
              "ticks": ""
             }
            },
            "type": "scatter3d"
           }
          ],
          "scattercarpet": [
           {
            "marker": {
             "colorbar": {
              "outlinewidth": 0,
              "ticks": ""
             }
            },
            "type": "scattercarpet"
           }
          ],
          "scattergeo": [
           {
            "marker": {
             "colorbar": {
              "outlinewidth": 0,
              "ticks": ""
             }
            },
            "type": "scattergeo"
           }
          ],
          "scattergl": [
           {
            "marker": {
             "colorbar": {
              "outlinewidth": 0,
              "ticks": ""
             }
            },
            "type": "scattergl"
           }
          ],
          "scattermapbox": [
           {
            "marker": {
             "colorbar": {
              "outlinewidth": 0,
              "ticks": ""
             }
            },
            "type": "scattermapbox"
           }
          ],
          "scatterpolar": [
           {
            "marker": {
             "colorbar": {
              "outlinewidth": 0,
              "ticks": ""
             }
            },
            "type": "scatterpolar"
           }
          ],
          "scatterpolargl": [
           {
            "marker": {
             "colorbar": {
              "outlinewidth": 0,
              "ticks": ""
             }
            },
            "type": "scatterpolargl"
           }
          ],
          "scatterternary": [
           {
            "marker": {
             "colorbar": {
              "outlinewidth": 0,
              "ticks": ""
             }
            },
            "type": "scatterternary"
           }
          ],
          "surface": [
           {
            "colorbar": {
             "outlinewidth": 0,
             "ticks": ""
            },
            "colorscale": [
             [
              0,
              "#0d0887"
             ],
             [
              0.1111111111111111,
              "#46039f"
             ],
             [
              0.2222222222222222,
              "#7201a8"
             ],
             [
              0.3333333333333333,
              "#9c179e"
             ],
             [
              0.4444444444444444,
              "#bd3786"
             ],
             [
              0.5555555555555556,
              "#d8576b"
             ],
             [
              0.6666666666666666,
              "#ed7953"
             ],
             [
              0.7777777777777778,
              "#fb9f3a"
             ],
             [
              0.8888888888888888,
              "#fdca26"
             ],
             [
              1,
              "#f0f921"
             ]
            ],
            "type": "surface"
           }
          ],
          "table": [
           {
            "cells": {
             "fill": {
              "color": "#EBF0F8"
             },
             "line": {
              "color": "white"
             }
            },
            "header": {
             "fill": {
              "color": "#C8D4E3"
             },
             "line": {
              "color": "white"
             }
            },
            "type": "table"
           }
          ]
         },
         "layout": {
          "annotationdefaults": {
           "arrowcolor": "#2a3f5f",
           "arrowhead": 0,
           "arrowwidth": 1
          },
          "autotypenumbers": "strict",
          "coloraxis": {
           "colorbar": {
            "outlinewidth": 0,
            "ticks": ""
           }
          },
          "colorscale": {
           "diverging": [
            [
             0,
             "#8e0152"
            ],
            [
             0.1,
             "#c51b7d"
            ],
            [
             0.2,
             "#de77ae"
            ],
            [
             0.3,
             "#f1b6da"
            ],
            [
             0.4,
             "#fde0ef"
            ],
            [
             0.5,
             "#f7f7f7"
            ],
            [
             0.6,
             "#e6f5d0"
            ],
            [
             0.7,
             "#b8e186"
            ],
            [
             0.8,
             "#7fbc41"
            ],
            [
             0.9,
             "#4d9221"
            ],
            [
             1,
             "#276419"
            ]
           ],
           "sequential": [
            [
             0,
             "#0d0887"
            ],
            [
             0.1111111111111111,
             "#46039f"
            ],
            [
             0.2222222222222222,
             "#7201a8"
            ],
            [
             0.3333333333333333,
             "#9c179e"
            ],
            [
             0.4444444444444444,
             "#bd3786"
            ],
            [
             0.5555555555555556,
             "#d8576b"
            ],
            [
             0.6666666666666666,
             "#ed7953"
            ],
            [
             0.7777777777777778,
             "#fb9f3a"
            ],
            [
             0.8888888888888888,
             "#fdca26"
            ],
            [
             1,
             "#f0f921"
            ]
           ],
           "sequentialminus": [
            [
             0,
             "#0d0887"
            ],
            [
             0.1111111111111111,
             "#46039f"
            ],
            [
             0.2222222222222222,
             "#7201a8"
            ],
            [
             0.3333333333333333,
             "#9c179e"
            ],
            [
             0.4444444444444444,
             "#bd3786"
            ],
            [
             0.5555555555555556,
             "#d8576b"
            ],
            [
             0.6666666666666666,
             "#ed7953"
            ],
            [
             0.7777777777777778,
             "#fb9f3a"
            ],
            [
             0.8888888888888888,
             "#fdca26"
            ],
            [
             1,
             "#f0f921"
            ]
           ]
          },
          "colorway": [
           "#636efa",
           "#EF553B",
           "#00cc96",
           "#ab63fa",
           "#FFA15A",
           "#19d3f3",
           "#FF6692",
           "#B6E880",
           "#FF97FF",
           "#FECB52"
          ],
          "font": {
           "color": "#2a3f5f"
          },
          "geo": {
           "bgcolor": "white",
           "lakecolor": "white",
           "landcolor": "#E5ECF6",
           "showlakes": true,
           "showland": true,
           "subunitcolor": "white"
          },
          "hoverlabel": {
           "align": "left"
          },
          "hovermode": "closest",
          "mapbox": {
           "style": "light"
          },
          "paper_bgcolor": "white",
          "plot_bgcolor": "#E5ECF6",
          "polar": {
           "angularaxis": {
            "gridcolor": "white",
            "linecolor": "white",
            "ticks": ""
           },
           "bgcolor": "#E5ECF6",
           "radialaxis": {
            "gridcolor": "white",
            "linecolor": "white",
            "ticks": ""
           }
          },
          "scene": {
           "xaxis": {
            "backgroundcolor": "#E5ECF6",
            "gridcolor": "white",
            "gridwidth": 2,
            "linecolor": "white",
            "showbackground": true,
            "ticks": "",
            "zerolinecolor": "white"
           },
           "yaxis": {
            "backgroundcolor": "#E5ECF6",
            "gridcolor": "white",
            "gridwidth": 2,
            "linecolor": "white",
            "showbackground": true,
            "ticks": "",
            "zerolinecolor": "white"
           },
           "zaxis": {
            "backgroundcolor": "#E5ECF6",
            "gridcolor": "white",
            "gridwidth": 2,
            "linecolor": "white",
            "showbackground": true,
            "ticks": "",
            "zerolinecolor": "white"
           }
          },
          "shapedefaults": {
           "line": {
            "color": "#2a3f5f"
           }
          },
          "ternary": {
           "aaxis": {
            "gridcolor": "white",
            "linecolor": "white",
            "ticks": ""
           },
           "baxis": {
            "gridcolor": "white",
            "linecolor": "white",
            "ticks": ""
           },
           "bgcolor": "#E5ECF6",
           "caxis": {
            "gridcolor": "white",
            "linecolor": "white",
            "ticks": ""
           }
          },
          "title": {
           "x": 0.05
          },
          "xaxis": {
           "automargin": true,
           "gridcolor": "white",
           "linecolor": "white",
           "ticks": "",
           "title": {
            "standoff": 15
           },
           "zerolinecolor": "white",
           "zerolinewidth": 2
          },
          "yaxis": {
           "automargin": true,
           "gridcolor": "white",
           "linecolor": "white",
           "ticks": "",
           "title": {
            "standoff": 15
           },
           "zerolinecolor": "white",
           "zerolinewidth": 2
          }
         }
        },
        "title": {
         "text": "Correlation Matrix of Selected Variables"
        },
        "xaxis": {
         "anchor": "y",
         "constrain": "domain",
         "domain": [
          0,
          1
         ],
         "scaleanchor": "y"
        },
        "yaxis": {
         "anchor": "x",
         "autorange": "reversed",
         "constrain": "domain",
         "domain": [
          0,
          1
         ]
        }
       }
      }
     },
     "metadata": {},
     "output_type": "display_data"
    }
   ],
   "source": [
    "# Calculate the correlation matrix\n",
    "corr_matrix = data.corr()\n",
    "# Visualize the correlation matrix using Plotly\n",
    "fig_heatmap = px.imshow(\n",
    "    corr_matrix,\n",
    "    text_auto=True,\n",
    "    color_continuous_scale='RdBu',\n",
    "    zmin=-1,\n",
    "    zmax=1,\n",
    "    title='Correlation Matrix of Selected Variables',\n",
    "    labels=dict(x=\"\", y=\"\")\n",
    ")\n",
    "\n",
    "\n",
    "fig_heatmap.show()"
   ]
  },
  {
   "cell_type": "markdown",
   "metadata": {},
   "source": [
    "## Does getting married make people happier, or does it just double their laundry? (Explore the relationship between marriage rates and happiness scores)"
   ]
  },
  {
   "cell_type": "code",
   "execution_count": 83,
   "metadata": {},
   "outputs": [
    {
     "data": {
      "image/png": "[encoded data removed]",
      "text/plain": [
       "<Figure size 1000x600 with 1 Axes>"
      ]
     },
     "metadata": {},
     "output_type": "display_data"
    },
    {
     "data": {
      "image/png": "[encoded data removed]",
      "text/plain": [
       "<Figure size 1000x600 with 1 Axes>"
      ]
     },
     "metadata": {},
     "output_type": "display_data"
    },
    {
     "data": {
      "image/png": "[encoded data removed]",
      "text/plain": [
       "<Figure size 1200x600 with 1 Axes>"
      ]
     },
     "metadata": {},
     "output_type": "display_data"
    },
    {
     "data": {
      "image/png": "[encoded data removed]",
      "text/plain": [
       "<Figure size 1200x600 with 1 Axes>"
      ]
     },
     "metadata": {},
     "output_type": "display_data"
    },
    {
     "data": {
      "image/png": "[encoded data removed]",
      "text/plain": [
       "<Figure size 800x600 with 2 Axes>"
      ]
     },
     "metadata": {},
     "output_type": "display_data"
    }
   ],
   "source": [
    "import pandas as pd\n",
    "import seaborn as sns\n",
    "import matplotlib.pyplot as plt\n",
    "import plotly.express as px\n",
    "\n",
    "# 1. Scatter Plot with Regression Line: Marriage Rate vs. Happiness Score\n",
    "plt.figure(figsize=(10, 6))\n",
    "sns.regplot(x='Marriage', y='happiness_score', data=marriage_happiness, scatter_kws={'alpha': 0.6}, line_kws={'color': 'red'})\n",
    "plt.title('Marriage Rate vs. Happiness Score')\n",
    "plt.xlabel('Marriage Rate (%)')\n",
    "plt.ylabel('Happiness Score')\n",
    "plt.show()\n",
    "\n",
    "# 2. Scatter Plot with Regression Line: Divorce Rate vs. Happiness Score\n",
    "plt.figure(figsize=(10, 6))\n",
    "sns.regplot(x='Divorce', y='happiness_score', data=marriage_happiness, scatter_kws={'alpha': 0.6}, line_kws={'color': 'blue'})\n",
    "plt.title('Divorce Rate vs. Happiness Score')\n",
    "plt.xlabel('Divorce Rate (%)')\n",
    "plt.ylabel('Happiness Score')\n",
    "plt.show()\n",
    "\n",
    "# 3. Box Plot: Happiness Score Across Marriage Rate Ranges\n",
    "bins = [0, 20, 40, 60, 80, 100]  # Adjust bin ranges as appropriate\n",
    "labels = ['0-20%', '20-40%', '40-60%', '60-80%', '80-100%']\n",
    "marriage_happiness['marriage_range'] = pd.cut(marriage_happiness['Marriage'], bins=bins, labels=labels, include_lowest=True)\n",
    "\n",
    "plt.figure(figsize=(12, 6))\n",
    "sns.boxplot(x='marriage_range', y='happiness_score', data=marriage_happiness, order=labels)\n",
    "plt.title('Happiness Score Across Marriage Rate Ranges')\n",
    "plt.xlabel('Marriage Rate Range (%)')\n",
    "plt.ylabel('Happiness Score')\n",
    "plt.show()\n",
    "\n",
    "# 4. Box Plot: Happiness Score Across Divorce Rate Ranges\n",
    "bins = [0, 20, 40, 60, 80, 100]  # Adjust bin ranges as appropriate\n",
    "labels = ['0-20%', '20-40%', '40-60%', '60-80%', '80-100%']\n",
    "marriage_happiness['divorce_range'] = pd.cut(marriage_happiness['Divorce'], bins=bins, labels=labels, include_lowest=True)\n",
    "\n",
    "plt.figure(figsize=(12, 6))\n",
    "sns.boxplot(x='divorce_range', y='happiness_score', data=marriage_happiness, order=labels)\n",
    "plt.title('Happiness Score Across Divorce Rate Ranges')\n",
    "plt.xlabel('Divorce Rate Range (%)')\n",
    "plt.ylabel('Happiness Score')\n",
    "plt.show()\n",
    "\n",
    "# 5. Heatmap of Correlations\n",
    "corr_matrix = marriage_happiness[['Marriage', 'Divorce', 'happiness_score']].corr()\n",
    "plt.figure(figsize=(8, 6))\n",
    "sns.heatmap(corr_matrix, annot=True, cmap='coolwarm', vmin=-1, vmax=1)\n",
    "plt.title('Correlation Matrix of Marriage, Divorce, and Happiness Scores')\n",
    "plt.show()"
   ]
  },
  {
   "cell_type": "code",
   "execution_count": 43,
   "metadata": {},
   "outputs": [
    {
     "data": {
      "application/vnd.plotly.v1+json": {
       "config": {
        "plotlyServerURL": "https://plot.ly"
       },
       "data": [
        {
         "hovertemplate": "<b>%{hovertext}</b><br><br>Marriage Rate (%)=%{x}<br>Happiness Score=%{y}<br>gdp_per_capita=%{marker.size}<br>Divorce Rate (%)=%{marker.color}<extra></extra>",
         "hovertext": [
          "Albania",
          "Algeria",
          "Armenia",
          "Australia",
          "Austria",
          "Belgium",
          "Bosnia and Herzegovina",
          "Brazil",
          "Bulgaria",
          "Canada",
          "Chile",
          "China",
          "Colombia",
          "Costa Rica",
          "Croatia",
          "Cyprus",
          "Denmark",
          "Dominican Republic",
          "Ecuador",
          "Egypt",
          "El Salvador",
          "Estonia",
          "Finland",
          "France",
          "Georgia",
          "Germany",
          "Greece",
          "Guatemala",
          "Hungary",
          "Iceland",
          "Iran",
          "Ireland",
          "Israel",
          "Italy",
          "Jamaica",
          "Japan",
          "Jordan",
          "Kazakhstan",
          "Kyrgyzstan",
          "Latvia",
          "Lebanon",
          "Lithuania",
          "Luxembourg",
          "Malaysia",
          "Malta",
          "Mauritius",
          "Mexico",
          "Moldova",
          "Mongolia",
          "Montenegro",
          "Netherlands",
          "New Zealand",
          "Nicaragua",
          "Norway",
          "Panama",
          "Poland",
          "Portugal",
          "Romania",
          "Russia",
          "Saudi Arabia",
          "Serbia",
          "Singapore",
          "Slovakia",
          "Slovenia",
          "South Africa",
          "South Korea",
          "Spain",
          "Sri Lanka",
          "Sweden",
          "Switzerland",
          "Tajikistan",
          "Thailand",
          "Tunisia",
          "Ukraine",
          "United Arab Emirates",
          "United Kingdom",
          "United States",
          "Uruguay",
          "Uzbekistan",
          "Venezuela",
          "Vietnam"
         ],
         "legendgroup": "",
         "marker": {
          "color": [
           1.7,
           1.6,
           1,
           2,
           1.8,
           2.1,
           0.6,
           1.4,
           1.5,
           2.1,
           0.7,
           3.2,
           0.7,
           2.5,
           1.5,
           2.2,
           2.6,
           1.8,
           1.1,
           1.9,
           0.8,
           2.4,
           2.4,
           1.9,
           1.3,
           1.9,
           1.8,
           1.2,
           1.7,
           1.8,
           1.6,
           0.7,
           1.8,
           1.5,
           1.5,
           1.7,
           1.8,
           2.5,
           1.6,
           3.1,
           1.6,
           3.1,
           2.3,
           1.6,
           0.7,
           1.4,
           0.9,
           3.1,
           1.1,
           1.4,
           1.8,
           2,
           0.8,
           1.9,
           1,
           1.7,
           1.7,
           1.6,
           3.9,
           2.1,
           1.4,
           1.9,
           1.8,
           1.1,
           0.6,
           2.2,
           1.6,
           0.15,
           2.5,
           2,
           1.4,
           1.4,
           null,
           2.88,
           0.7,
           1.8,
           2.3,
           null,
           1.1,
           1.2,
           0.4
          ],
          "coloraxis": "coloraxis",
          "size": [
           1.449,
           1.353,
           1.466,
           1.899,
           1.927,
           1.907,
           1.467,
           1.454,
           1.635,
           1.881,
           1.645,
           1.51,
           1.455,
           1.587,
           1.727,
           1.824,
           1.949,
           1.536,
           1.343,
           1.377,
           1.278,
           1.798,
           1.888,
           1.856,
           1.477,
           1.919,
           1.708,
           1.287,
           1.754,
           1.926,
           1.465,
           2.152,
           1.833,
           1.832,
           1.305,
           1.825,
           1.292,
           1.664,
           1.061,
           1.737,
           1.417,
           1.808,
           2.2,
           1.665,
           1.841,
           1.589,
           1.55,
           1.425,
           1.379,
           1.537,
           1.942,
           1.842,
           1.109,
           1.994,
           1.714,
           1.767,
           1.758,
           1.726,
           1.68,
           1.861,
           1.552,
           2.168,
           1.731,
           1.815,
           1.417,
           1.853,
           1.798,
           1.422,
           1.921,
           2.022,
           0.972,
           1.515,
           1.333,
           1.358,
           2.015,
           1.857,
           1.98,
           1.617,
           1.227,
           0,
           1.349
          ],
          "sizemode": "area",
          "sizeref": 0.0055000000000000005,
          "symbol": "circle"
         },
         "mode": "markers",
         "name": "",
         "orientation": "v",
         "showlegend": false,
         "type": "scatter",
         "x": [
          8.1,
          10.1,
          6,
          4.6,
          5.3,
          3.9,
          4.8,
          6.6,
          4.1,
          4.4,
          3.3,
          7.2,
          2.3,
          5.3,
          4.9,
          6.8,
          5.6,
          4.4,
          5.6,
          11,
          3.5,
          5,
          4.3,
          3.7,
          6.9,
          4.9,
          4.7,
          3.8,
          5.2,
          4.9,
          11.2,
          4.6,
          6.5,
          3.2,
          7.5,
          4.8,
          6.7,
          7.3,
          9.7,
          6.8,
          9.5,
          7,
          2.9,
          6.4,
          5.8,
          8.2,
          5.2,
          7.3,
          3.4,
          5.3,
          3.7,
          4.8,
          4.5,
          4.3,
          3.7,
          5.1,
          1.8,
          7.4,
          5.3,
          5.6,
          5.2,
          6.8,
          5.7,
          3.5,
          3.5,
          4.7,
          1.9,
          null,
          5,
          4.8,
          13.5,
          5.5,
          null,
          4.06,
          2.8,
          4.4,
          5.1,
          3.2,
          7.8,
          3.3,
          5.7
         ],
         "xaxis": "x",
         "y": [
          5.277,
          5.329,
          5.342,
          7.095,
          7.097,
          6.859,
          5.633,
          6.125,
          5.466,
          6.961,
          6.334,
          5.818,
          5.63,
          6.609,
          6.125,
          6.13,
          7.586,
          5.569,
          5.559,
          4.17,
          6.122,
          6.455,
          7.804,
          6.661,
          5.109,
          6.892,
          5.931,
          6.15,
          6.041,
          7.53,
          4.876,
          6.911,
          7.473,
          6.405,
          5.703,
          6.129,
          4.12,
          6.144,
          5.825,
          6.213,
          2.392,
          6.763,
          7.228,
          6.012,
          6.3,
          5.902,
          6.33,
          5.819,
          5.84,
          5.722,
          7.403,
          7.123,
          6.259,
          7.315,
          6.265,
          6.26,
          5.968,
          6.589,
          5.661,
          6.463,
          6.144,
          6.587,
          6.469,
          6.65,
          5.275,
          5.951,
          6.436,
          4.442,
          7.395,
          7.24,
          5.33,
          5.843,
          4.497,
          5.071,
          6.571,
          6.796,
          6.894,
          6.494,
          6.014,
          5.211,
          5.763
         ],
         "yaxis": "y"
        },
        {
         "alignmentgroup": "True",
         "bingroup": "x",
         "hovertemplate": "Marriage Rate (%)=%{x}<br>count=%{y}<extra></extra>",
         "legendgroup": "",
         "marker": {
          "color": "#0d0887"
         },
         "name": "",
         "offsetgroup": "",
         "opacity": 0.5,
         "showlegend": false,
         "type": "histogram",
         "x": [
          8.1,
          10.1,
          6,
          4.6,
          5.3,
          3.9,
          4.8,
          6.6,
          4.1,
          4.4,
          3.3,
          7.2,
          2.3,
          5.3,
          4.9,
          6.8,
          5.6,
          4.4,
          5.6,
          11,
          3.5,
          5,
          4.3,
          3.7,
          6.9,
          4.9,
          4.7,
          3.8,
          5.2,
          4.9,
          11.2,
          4.6,
          6.5,
          3.2,
          7.5,
          4.8,
          6.7,
          7.3,
          9.7,
          6.8,
          9.5,
          7,
          2.9,
          6.4,
          5.8,
          8.2,
          5.2,
          7.3,
          3.4,
          5.3,
          3.7,
          4.8,
          4.5,
          4.3,
          3.7,
          5.1,
          1.8,
          7.4,
          5.3,
          5.6,
          5.2,
          6.8,
          5.7,
          3.5,
          3.5,
          4.7,
          1.9,
          null,
          5,
          4.8,
          13.5,
          5.5,
          null,
          4.06,
          2.8,
          4.4,
          5.1,
          3.2,
          7.8,
          3.3,
          5.7
         ],
         "xaxis": "x3",
         "yaxis": "y3"
        },
        {
         "alignmentgroup": "True",
         "bingroup": "y",
         "hovertemplate": "Happiness Score=%{y}<br>count=%{x}<extra></extra>",
         "legendgroup": "",
         "marker": {
          "color": "#0d0887"
         },
         "name": "",
         "offsetgroup": "",
         "opacity": 0.5,
         "showlegend": false,
         "type": "histogram",
         "xaxis": "x2",
         "y": [
          5.277,
          5.329,
          5.342,
          7.095,
          7.097,
          6.859,
          5.633,
          6.125,
          5.466,
          6.961,
          6.334,
          5.818,
          5.63,
          6.609,
          6.125,
          6.13,
          7.586,
          5.569,
          5.559,
          4.17,
          6.122,
          6.455,
          7.804,
          6.661,
          5.109,
          6.892,
          5.931,
          6.15,
          6.041,
          7.53,
          4.876,
          6.911,
          7.473,
          6.405,
          5.703,
          6.129,
          4.12,
          6.144,
          5.825,
          6.213,
          2.392,
          6.763,
          7.228,
          6.012,
          6.3,
          5.902,
          6.33,
          5.819,
          5.84,
          5.722,
          7.403,
          7.123,
          6.259,
          7.315,
          6.265,
          6.26,
          5.968,
          6.589,
          5.661,
          6.463,
          6.144,
          6.587,
          6.469,
          6.65,
          5.275,
          5.951,
          6.436,
          4.442,
          7.395,
          7.24,
          5.33,
          5.843,
          4.497,
          5.071,
          6.571,
          6.796,
          6.894,
          6.494,
          6.014,
          5.211,
          5.763
         ],
         "yaxis": "y2"
        },
        {
         "hovertemplate": "<b>OLS trendline</b><br>happiness_score = -0.177908 * Marriage + 7.13948<br>R<sup>2</sup>=0.195402<br><br>Marriage Rate (%)=%{x}<br>Happiness Score=%{y} <b>(trend)</b><extra></extra>",
         "legendgroup": "",
         "marker": {
          "symbol": "circle"
         },
         "mode": "lines",
         "name": "",
         "showlegend": false,
         "type": "scatter",
         "x": [
          1.8,
          1.9,
          2.3,
          2.8,
          2.9,
          3.2,
          3.2,
          3.3,
          3.3,
          3.4,
          3.5,
          3.5,
          3.5,
          3.7,
          3.7,
          3.7,
          3.8,
          3.9,
          4.06,
          4.1,
          4.3,
          4.3,
          4.4,
          4.4,
          4.4,
          4.5,
          4.6,
          4.6,
          4.7,
          4.7,
          4.8,
          4.8,
          4.8,
          4.8,
          4.9,
          4.9,
          4.9,
          5,
          5,
          5.1,
          5.1,
          5.2,
          5.2,
          5.2,
          5.3,
          5.3,
          5.3,
          5.3,
          5.5,
          5.6,
          5.6,
          5.6,
          5.7,
          5.7,
          5.8,
          6,
          6.4,
          6.5,
          6.6,
          6.7,
          6.8,
          6.8,
          6.8,
          6.9,
          7,
          7.2,
          7.3,
          7.3,
          7.4,
          7.5,
          7.8,
          8.1,
          8.2,
          9.5,
          9.7,
          10.1,
          11,
          11.2,
          13.5
         ],
         "xaxis": "x",
         "y": [
          6.819242240261202,
          6.8014514315656305,
          6.730288196783344,
          6.641334153305485,
          6.623543344609914,
          6.570170918523199,
          6.570170918523199,
          6.552380109827627,
          6.552380109827627,
          6.534589301132055,
          6.516798492436483,
          6.516798492436483,
          6.516798492436483,
          6.48121687504534,
          6.48121687504534,
          6.48121687504534,
          6.4634260663497685,
          6.445635257654197,
          6.417169963741282,
          6.410053640263053,
          6.37447202287191,
          6.37447202287191,
          6.356681214176338,
          6.356681214176338,
          6.356681214176338,
          6.338890405480766,
          6.321099596785195,
          6.321099596785195,
          6.303308788089623,
          6.303308788089623,
          6.285517979394051,
          6.285517979394051,
          6.285517979394051,
          6.285517979394051,
          6.267727170698479,
          6.267727170698479,
          6.267727170698479,
          6.249936362002908,
          6.249936362002908,
          6.232145553307336,
          6.232145553307336,
          6.214354744611764,
          6.214354744611764,
          6.214354744611764,
          6.196563935916193,
          6.196563935916193,
          6.196563935916193,
          6.196563935916193,
          6.160982318525049,
          6.143191509829477,
          6.143191509829477,
          6.143191509829477,
          6.125400701133906,
          6.125400701133906,
          6.107609892438334,
          6.072028275047191,
          6.0008650402649035,
          5.983074231569332,
          5.96528342287376,
          5.947492614178189,
          5.929701805482617,
          5.929701805482617,
          5.929701805482617,
          5.911910996787045,
          5.894120188091474,
          5.85853857070033,
          5.840747762004758,
          5.840747762004758,
          5.822956953309187,
          5.805166144613615,
          5.7517937185268995,
          5.698421292440185,
          5.680630483744613,
          5.449349970702181,
          5.4137683533110375,
          5.34260511852875,
          5.182487840268605,
          5.146906222877462,
          4.7377176228793125
         ],
         "yaxis": "y"
        }
       ],
       "layout": {
        "barmode": "overlay",
        "coloraxis": {
         "colorbar": {
          "title": {
           "text": "Divorce Rate (%)"
          }
         },
         "colorscale": [
          [
           0,
           "#0d0887"
          ],
          [
           0.1111111111111111,
           "#46039f"
          ],
          [
           0.2222222222222222,
           "#7201a8"
          ],
          [
           0.3333333333333333,
           "#9c179e"
          ],
          [
           0.4444444444444444,
           "#bd3786"
          ],
          [
           0.5555555555555556,
           "#d8576b"
          ],
          [
           0.6666666666666666,
           "#ed7953"
          ],
          [
           0.7777777777777778,
           "#fb9f3a"
          ],
          [
           0.8888888888888888,
           "#fdca26"
          ],
          [
           1,
           "#f0f921"
          ]
         ]
        },
        "height": 700,
        "legend": {
         "itemsizing": "constant",
         "title": {
          "text": "Divorce Rate (%)"
         },
         "tracegroupgap": 0
        },
        "template": {
         "data": {
          "bar": [
           {
            "error_x": {
             "color": "#2a3f5f"
            },
            "error_y": {
             "color": "#2a3f5f"
            },
            "marker": {
             "line": {
              "color": "white",
              "width": 0.5
             },
             "pattern": {
              "fillmode": "overlay",
              "size": 10,
              "solidity": 0.2
             }
            },
            "type": "bar"
           }
          ],
          "barpolar": [
           {
            "marker": {
             "line": {
              "color": "white",
              "width": 0.5
             },
             "pattern": {
              "fillmode": "overlay",
              "size": 10,
              "solidity": 0.2
             }
            },
            "type": "barpolar"
           }
          ],
          "carpet": [
           {
            "aaxis": {
             "endlinecolor": "#2a3f5f",
             "gridcolor": "#C8D4E3",
             "linecolor": "#C8D4E3",
             "minorgridcolor": "#C8D4E3",
             "startlinecolor": "#2a3f5f"
            },
            "baxis": {
             "endlinecolor": "#2a3f5f",
             "gridcolor": "#C8D4E3",
             "linecolor": "#C8D4E3",
             "minorgridcolor": "#C8D4E3",
             "startlinecolor": "#2a3f5f"
            },
            "type": "carpet"
           }
          ],
          "choropleth": [
           {
            "colorbar": {
             "outlinewidth": 0,
             "ticks": ""
            },
            "type": "choropleth"
           }
          ],
          "contour": [
           {
            "colorbar": {
             "outlinewidth": 0,
             "ticks": ""
            },
            "colorscale": [
             [
              0,
              "#0d0887"
             ],
             [
              0.1111111111111111,
              "#46039f"
             ],
             [
              0.2222222222222222,
              "#7201a8"
             ],
             [
              0.3333333333333333,
              "#9c179e"
             ],
             [
              0.4444444444444444,
              "#bd3786"
             ],
             [
              0.5555555555555556,
              "#d8576b"
             ],
             [
              0.6666666666666666,
              "#ed7953"
             ],
             [
              0.7777777777777778,
              "#fb9f3a"
             ],
             [
              0.8888888888888888,
              "#fdca26"
             ],
             [
              1,
              "#f0f921"
             ]
            ],
            "type": "contour"
           }
          ],
          "contourcarpet": [
           {
            "colorbar": {
             "outlinewidth": 0,
             "ticks": ""
            },
            "type": "contourcarpet"
           }
          ],
          "heatmap": [
           {
            "colorbar": {
             "outlinewidth": 0,
             "ticks": ""
            },
            "colorscale": [
             [
              0,
              "#0d0887"
             ],
             [
              0.1111111111111111,
              "#46039f"
             ],
             [
              0.2222222222222222,
              "#7201a8"
             ],
             [
              0.3333333333333333,
              "#9c179e"
             ],
             [
              0.4444444444444444,
              "#bd3786"
             ],
             [
              0.5555555555555556,
              "#d8576b"
             ],
             [
              0.6666666666666666,
              "#ed7953"
             ],
             [
              0.7777777777777778,
              "#fb9f3a"
             ],
             [
              0.8888888888888888,
              "#fdca26"
             ],
             [
              1,
              "#f0f921"
             ]
            ],
            "type": "heatmap"
           }
          ],
          "heatmapgl": [
           {
            "colorbar": {
             "outlinewidth": 0,
             "ticks": ""
            },
            "colorscale": [
             [
              0,
              "#0d0887"
             ],
             [
              0.1111111111111111,
              "#46039f"
             ],
             [
              0.2222222222222222,
              "#7201a8"
             ],
             [
              0.3333333333333333,
              "#9c179e"
             ],
             [
              0.4444444444444444,
              "#bd3786"
             ],
             [
              0.5555555555555556,
              "#d8576b"
             ],
             [
              0.6666666666666666,
              "#ed7953"
             ],
             [
              0.7777777777777778,
              "#fb9f3a"
             ],
             [
              0.8888888888888888,
              "#fdca26"
             ],
             [
              1,
              "#f0f921"
             ]
            ],
            "type": "heatmapgl"
           }
          ],
          "histogram": [
           {
            "marker": {
             "pattern": {
              "fillmode": "overlay",
              "size": 10,
              "solidity": 0.2
             }
            },
            "type": "histogram"
           }
          ],
          "histogram2d": [
           {
            "colorbar": {
             "outlinewidth": 0,
             "ticks": ""
            },
            "colorscale": [
             [
              0,
              "#0d0887"
             ],
             [
              0.1111111111111111,
              "#46039f"
             ],
             [
              0.2222222222222222,
              "#7201a8"
             ],
             [
              0.3333333333333333,
              "#9c179e"
             ],
             [
              0.4444444444444444,
              "#bd3786"
             ],
             [
              0.5555555555555556,
              "#d8576b"
             ],
             [
              0.6666666666666666,
              "#ed7953"
             ],
             [
              0.7777777777777778,
              "#fb9f3a"
             ],
             [
              0.8888888888888888,
              "#fdca26"
             ],
             [
              1,
              "#f0f921"
             ]
            ],
            "type": "histogram2d"
           }
          ],
          "histogram2dcontour": [
           {
            "colorbar": {
             "outlinewidth": 0,
             "ticks": ""
            },
            "colorscale": [
             [
              0,
              "#0d0887"
             ],
             [
              0.1111111111111111,
              "#46039f"
             ],
             [
              0.2222222222222222,
              "#7201a8"
             ],
             [
              0.3333333333333333,
              "#9c179e"
             ],
             [
              0.4444444444444444,
              "#bd3786"
             ],
             [
              0.5555555555555556,
              "#d8576b"
             ],
             [
              0.6666666666666666,
              "#ed7953"
             ],
             [
              0.7777777777777778,
              "#fb9f3a"
             ],
             [
              0.8888888888888888,
              "#fdca26"
             ],
             [
              1,
              "#f0f921"
             ]
            ],
            "type": "histogram2dcontour"
           }
          ],
          "mesh3d": [
           {
            "colorbar": {
             "outlinewidth": 0,
             "ticks": ""
            },
            "type": "mesh3d"
           }
          ],
          "parcoords": [
           {
            "line": {
             "colorbar": {
              "outlinewidth": 0,
              "ticks": ""
             }
            },
            "type": "parcoords"
           }
          ],
          "pie": [
           {
            "automargin": true,
            "type": "pie"
           }
          ],
          "scatter": [
           {
            "fillpattern": {
             "fillmode": "overlay",
             "size": 10,
             "solidity": 0.2
            },
            "type": "scatter"
           }
          ],
          "scatter3d": [
           {
            "line": {
             "colorbar": {
              "outlinewidth": 0,
              "ticks": ""
             }
            },
            "marker": {
             "colorbar": {
              "outlinewidth": 0,
              "ticks": ""
             }
            },
            "type": "scatter3d"
           }
          ],
          "scattercarpet": [
           {
            "marker": {
             "colorbar": {
              "outlinewidth": 0,
              "ticks": ""
             }
            },
            "type": "scattercarpet"
           }
          ],
          "scattergeo": [
           {
            "marker": {
             "colorbar": {
              "outlinewidth": 0,
              "ticks": ""
             }
            },
            "type": "scattergeo"
           }
          ],
          "scattergl": [
           {
            "marker": {
             "colorbar": {
              "outlinewidth": 0,
              "ticks": ""
             }
            },
            "type": "scattergl"
           }
          ],
          "scattermapbox": [
           {
            "marker": {
             "colorbar": {
              "outlinewidth": 0,
              "ticks": ""
             }
            },
            "type": "scattermapbox"
           }
          ],
          "scatterpolar": [
           {
            "marker": {
             "colorbar": {
              "outlinewidth": 0,
              "ticks": ""
             }
            },
            "type": "scatterpolar"
           }
          ],
          "scatterpolargl": [
           {
            "marker": {
             "colorbar": {
              "outlinewidth": 0,
              "ticks": ""
             }
            },
            "type": "scatterpolargl"
           }
          ],
          "scatterternary": [
           {
            "marker": {
             "colorbar": {
              "outlinewidth": 0,
              "ticks": ""
             }
            },
            "type": "scatterternary"
           }
          ],
          "surface": [
           {
            "colorbar": {
             "outlinewidth": 0,
             "ticks": ""
            },
            "colorscale": [
             [
              0,
              "#0d0887"
             ],
             [
              0.1111111111111111,
              "#46039f"
             ],
             [
              0.2222222222222222,
              "#7201a8"
             ],
             [
              0.3333333333333333,
              "#9c179e"
             ],
             [
              0.4444444444444444,
              "#bd3786"
             ],
             [
              0.5555555555555556,
              "#d8576b"
             ],
             [
              0.6666666666666666,
              "#ed7953"
             ],
             [
              0.7777777777777778,
              "#fb9f3a"
             ],
             [
              0.8888888888888888,
              "#fdca26"
             ],
             [
              1,
              "#f0f921"
             ]
            ],
            "type": "surface"
           }
          ],
          "table": [
           {
            "cells": {
             "fill": {
              "color": "#EBF0F8"
             },
             "line": {
              "color": "white"
             }
            },
            "header": {
             "fill": {
              "color": "#C8D4E3"
             },
             "line": {
              "color": "white"
             }
            },
            "type": "table"
           }
          ]
         },
         "layout": {
          "annotationdefaults": {
           "arrowcolor": "#2a3f5f",
           "arrowhead": 0,
           "arrowwidth": 1
          },
          "autotypenumbers": "strict",
          "coloraxis": {
           "colorbar": {
            "outlinewidth": 0,
            "ticks": ""
           }
          },
          "colorscale": {
           "diverging": [
            [
             0,
             "#8e0152"
            ],
            [
             0.1,
             "#c51b7d"
            ],
            [
             0.2,
             "#de77ae"
            ],
            [
             0.3,
             "#f1b6da"
            ],
            [
             0.4,
             "#fde0ef"
            ],
            [
             0.5,
             "#f7f7f7"
            ],
            [
             0.6,
             "#e6f5d0"
            ],
            [
             0.7,
             "#b8e186"
            ],
            [
             0.8,
             "#7fbc41"
            ],
            [
             0.9,
             "#4d9221"
            ],
            [
             1,
             "#276419"
            ]
           ],
           "sequential": [
            [
             0,
             "#0d0887"
            ],
            [
             0.1111111111111111,
             "#46039f"
            ],
            [
             0.2222222222222222,
             "#7201a8"
            ],
            [
             0.3333333333333333,
             "#9c179e"
            ],
            [
             0.4444444444444444,
             "#bd3786"
            ],
            [
             0.5555555555555556,
             "#d8576b"
            ],
            [
             0.6666666666666666,
             "#ed7953"
            ],
            [
             0.7777777777777778,
             "#fb9f3a"
            ],
            [
             0.8888888888888888,
             "#fdca26"
            ],
            [
             1,
             "#f0f921"
            ]
           ],
           "sequentialminus": [
            [
             0,
             "#0d0887"
            ],
            [
             0.1111111111111111,
             "#46039f"
            ],
            [
             0.2222222222222222,
             "#7201a8"
            ],
            [
             0.3333333333333333,
             "#9c179e"
            ],
            [
             0.4444444444444444,
             "#bd3786"
            ],
            [
             0.5555555555555556,
             "#d8576b"
            ],
            [
             0.6666666666666666,
             "#ed7953"
            ],
            [
             0.7777777777777778,
             "#fb9f3a"
            ],
            [
             0.8888888888888888,
             "#fdca26"
            ],
            [
             1,
             "#f0f921"
            ]
           ]
          },
          "colorway": [
           "#636efa",
           "#EF553B",
           "#00cc96",
           "#ab63fa",
           "#FFA15A",
           "#19d3f3",
           "#FF6692",
           "#B6E880",
           "#FF97FF",
           "#FECB52"
          ],
          "font": {
           "color": "#2a3f5f"
          },
          "geo": {
           "bgcolor": "white",
           "lakecolor": "white",
           "landcolor": "white",
           "showlakes": true,
           "showland": true,
           "subunitcolor": "#C8D4E3"
          },
          "hoverlabel": {
           "align": "left"
          },
          "hovermode": "closest",
          "mapbox": {
           "style": "light"
          },
          "paper_bgcolor": "white",
          "plot_bgcolor": "white",
          "polar": {
           "angularaxis": {
            "gridcolor": "#EBF0F8",
            "linecolor": "#EBF0F8",
            "ticks": ""
           },
           "bgcolor": "white",
           "radialaxis": {
            "gridcolor": "#EBF0F8",
            "linecolor": "#EBF0F8",
            "ticks": ""
           }
          },
          "scene": {
           "xaxis": {
            "backgroundcolor": "white",
            "gridcolor": "#DFE8F3",
            "gridwidth": 2,
            "linecolor": "#EBF0F8",
            "showbackground": true,
            "ticks": "",
            "zerolinecolor": "#EBF0F8"
           },
           "yaxis": {
            "backgroundcolor": "white",
            "gridcolor": "#DFE8F3",
            "gridwidth": 2,
            "linecolor": "#EBF0F8",
            "showbackground": true,
            "ticks": "",
            "zerolinecolor": "#EBF0F8"
           },
           "zaxis": {
            "backgroundcolor": "white",
            "gridcolor": "#DFE8F3",
            "gridwidth": 2,
            "linecolor": "#EBF0F8",
            "showbackground": true,
            "ticks": "",
            "zerolinecolor": "#EBF0F8"
           }
          },
          "shapedefaults": {
           "line": {
            "color": "#2a3f5f"
           }
          },
          "ternary": {
           "aaxis": {
            "gridcolor": "#DFE8F3",
            "linecolor": "#A2B1C6",
            "ticks": ""
           },
           "baxis": {
            "gridcolor": "#DFE8F3",
            "linecolor": "#A2B1C6",
            "ticks": ""
           },
           "bgcolor": "white",
           "caxis": {
            "gridcolor": "#DFE8F3",
            "linecolor": "#A2B1C6",
            "ticks": ""
           }
          },
          "title": {
           "x": 0.05
          },
          "xaxis": {
           "automargin": true,
           "gridcolor": "#EBF0F8",
           "linecolor": "#EBF0F8",
           "ticks": "",
           "title": {
            "standoff": 15
           },
           "zerolinecolor": "#EBF0F8",
           "zerolinewidth": 2
          },
          "yaxis": {
           "automargin": true,
           "gridcolor": "#EBF0F8",
           "linecolor": "#EBF0F8",
           "ticks": "",
           "title": {
            "standoff": 15
           },
           "zerolinecolor": "#EBF0F8",
           "zerolinewidth": 2
          }
         }
        },
        "title": {
         "text": "Marriage Rate vs. Happiness Score"
        },
        "width": 1000,
        "xaxis": {
         "anchor": "y",
         "domain": [
          0,
          0.7363
         ],
         "title": {
          "text": "Marriage Rate (%)"
         }
        },
        "xaxis2": {
         "anchor": "y2",
         "domain": [
          0.7413,
          1
         ],
         "matches": "x2",
         "showgrid": true,
         "showline": false,
         "showticklabels": false,
         "ticks": ""
        },
        "xaxis3": {
         "anchor": "y3",
         "domain": [
          0,
          0.7363
         ],
         "matches": "x",
         "showgrid": true,
         "showticklabels": false
        },
        "xaxis4": {
         "anchor": "y4",
         "domain": [
          0.7413,
          1
         ],
         "matches": "x2",
         "showgrid": true,
         "showline": false,
         "showticklabels": false,
         "ticks": ""
        },
        "yaxis": {
         "anchor": "x",
         "domain": [
          0,
          0.7326
         ],
         "title": {
          "text": "Happiness Score"
         }
        },
        "yaxis2": {
         "anchor": "x2",
         "domain": [
          0,
          0.7326
         ],
         "matches": "y",
         "showgrid": true,
         "showticklabels": false
        },
        "yaxis3": {
         "anchor": "x3",
         "domain": [
          0.7426,
          1
         ],
         "matches": "y3",
         "showgrid": true,
         "showline": false,
         "showticklabels": false,
         "ticks": ""
        },
        "yaxis4": {
         "anchor": "x4",
         "domain": [
          0.7426,
          1
         ],
         "matches": "y3",
         "showgrid": true,
         "showline": false,
         "showticklabels": false,
         "ticks": ""
        }
       }
      }
     },
     "metadata": {},
     "output_type": "display_data"
    }
   ],
   "source": [
    "import plotly.express as px\n",
    "\n",
    "# Interactive Joint Plot: Marriage Rate vs. Happiness Score\n",
    "fig_joint = px.scatter(\n",
    "    marriage_happiness,\n",
    "    x='Marriage',\n",
    "    y='happiness_score',\n",
    "    color='Divorce',\n",
    "    size='gdp_per_capita',\n",
    "    hover_name='country',\n",
    "    marginal_x='histogram',\n",
    "    marginal_y='histogram',\n",
    "    trendline='ols',\n",
    "    title='Marriage Rate vs. Happiness Score',\n",
    "    labels={'Marriage': 'Marriage Rate (%)', 'happiness_score': 'Happiness Score', 'Divorce': 'Divorce Rate (%)'},\n",
    "    template='plotly_white'\n",
    ")\n",
    "\n",
    "fig_joint.update_layout(\n",
    "    height=700,\n",
    "    width=1000,\n",
    "    legend_title='Divorce Rate (%)'\n",
    ")\n",
    "\n",
    "fig_joint.show()"
   ]
  },
  {
   "cell_type": "code",
   "execution_count": 84,
   "metadata": {},
   "outputs": [
    {
     "data": {
      "application/vnd.plotly.v1+json": {
       "config": {
        "plotlyServerURL": "https://plot.ly"
       },
       "data": [
        {
         "alignmentgroup": "True",
         "boxpoints": "all",
         "customdata": [
          [
           "Albania",
           8.1
          ],
          [
           "Algeria",
           10.1
          ],
          [
           "Armenia",
           6
          ],
          [
           "Australia",
           4.6
          ],
          [
           "Austria",
           5.3
          ],
          [
           "Belgium",
           3.9
          ],
          [
           "Bosnia and Herzegovina",
           4.8
          ],
          [
           "Brazil",
           6.6
          ],
          [
           "Bulgaria",
           4.1
          ],
          [
           "Canada",
           4.4
          ],
          [
           "Chile",
           3.3
          ],
          [
           "China",
           7.2
          ],
          [
           "Colombia",
           2.3
          ],
          [
           "Costa Rica",
           5.3
          ],
          [
           "Croatia",
           4.9
          ],
          [
           "Cyprus",
           6.8
          ],
          [
           "Denmark",
           5.6
          ],
          [
           "Dominican Republic",
           4.4
          ],
          [
           "Ecuador",
           5.6
          ],
          [
           "Egypt",
           11
          ],
          [
           "El Salvador",
           3.5
          ],
          [
           "Estonia",
           5
          ],
          [
           "Finland",
           4.3
          ],
          [
           "France",
           3.7
          ],
          [
           "Georgia",
           6.9
          ],
          [
           "Germany",
           4.9
          ],
          [
           "Greece",
           4.7
          ],
          [
           "Guatemala",
           3.8
          ],
          [
           "Hungary",
           5.2
          ],
          [
           "Iceland",
           4.9
          ],
          [
           "Iran",
           11.2
          ],
          [
           "Ireland",
           4.6
          ],
          [
           "Israel",
           6.5
          ],
          [
           "Italy",
           3.2
          ],
          [
           "Jamaica",
           7.5
          ],
          [
           "Japan",
           4.8
          ],
          [
           "Jordan",
           6.7
          ],
          [
           "Kazakhstan",
           7.3
          ],
          [
           "Kyrgyzstan",
           9.7
          ],
          [
           "Latvia",
           6.8
          ],
          [
           "Lebanon",
           9.5
          ],
          [
           "Lithuania",
           7
          ],
          [
           "Luxembourg",
           2.9
          ],
          [
           "Malaysia",
           6.4
          ],
          [
           "Malta",
           5.8
          ],
          [
           "Mauritius",
           8.2
          ],
          [
           "Mexico",
           5.2
          ],
          [
           "Moldova",
           7.3
          ],
          [
           "Mongolia",
           3.4
          ],
          [
           "Montenegro",
           5.3
          ],
          [
           "Netherlands",
           3.7
          ],
          [
           "New Zealand",
           4.8
          ],
          [
           "Nicaragua",
           4.5
          ],
          [
           "Norway",
           4.3
          ],
          [
           "Panama",
           3.7
          ],
          [
           "Poland",
           5.1
          ],
          [
           "Portugal",
           1.8
          ],
          [
           "Romania",
           7.4
          ],
          [
           "Russia",
           5.3
          ],
          [
           "Saudi Arabia",
           5.6
          ],
          [
           "Serbia",
           5.2
          ],
          [
           "Singapore",
           6.8
          ],
          [
           "Slovakia",
           5.7
          ],
          [
           "Slovenia",
           3.5
          ],
          [
           "South Africa",
           3.5
          ],
          [
           "South Korea",
           4.7
          ],
          [
           "Spain",
           1.9
          ],
          [
           "Sweden",
           5
          ],
          [
           "Switzerland",
           4.8
          ],
          [
           "Tajikistan",
           13.5
          ],
          [
           "Thailand",
           5.5
          ],
          [
           "Ukraine",
           4.06
          ],
          [
           "United Arab Emirates",
           2.8
          ],
          [
           "United Kingdom",
           4.4
          ],
          [
           "United States",
           5.1
          ],
          [
           "Uruguay",
           3.2
          ],
          [
           "Uzbekistan",
           7.8
          ],
          [
           "Venezuela",
           3.3
          ],
          [
           "Vietnam",
           5.7
          ]
         ],
         "hovertemplate": "Marriage Rate Range (%)=%{x}<br>Happiness Score=%{y}<br>country=%{customdata[0]}<br>Marriage=%{customdata[1]}<extra></extra>",
         "legendgroup": "0-20%",
         "marker": {
          "color": "#636efa"
         },
         "name": "0-20%",
         "notched": false,
         "offsetgroup": "0-20%",
         "orientation": "v",
         "showlegend": true,
         "type": "box",
         "x": [
          "0-20%",
          "0-20%",
          "0-20%",
          "0-20%",
          "0-20%",
          "0-20%",
          "0-20%",
          "0-20%",
          "0-20%",
          "0-20%",
          "0-20%",
          "0-20%",
          "0-20%",
          "0-20%",
          "0-20%",
          "0-20%",
          "0-20%",
          "0-20%",
          "0-20%",
          "0-20%",
          "0-20%",
          "0-20%",
          "0-20%",
          "0-20%",
          "0-20%",
          "0-20%",
          "0-20%",
          "0-20%",
          "0-20%",
          "0-20%",
          "0-20%",
          "0-20%",
          "0-20%",
          "0-20%",
          "0-20%",
          "0-20%",
          "0-20%",
          "0-20%",
          "0-20%",
          "0-20%",
          "0-20%",
          "0-20%",
          "0-20%",
          "0-20%",
          "0-20%",
          "0-20%",
          "0-20%",
          "0-20%",
          "0-20%",
          "0-20%",
          "0-20%",
          "0-20%",
          "0-20%",
          "0-20%",
          "0-20%",
          "0-20%",
          "0-20%",
          "0-20%",
          "0-20%",
          "0-20%",
          "0-20%",
          "0-20%",
          "0-20%",
          "0-20%",
          "0-20%",
          "0-20%",
          "0-20%",
          "0-20%",
          "0-20%",
          "0-20%",
          "0-20%",
          "0-20%",
          "0-20%",
          "0-20%",
          "0-20%",
          "0-20%",
          "0-20%",
          "0-20%",
          "0-20%"
         ],
         "x0": " ",
         "xaxis": "x",
         "y": [
          5.277,
          5.329,
          5.342,
          7.095,
          7.097,
          6.859,
          5.633,
          6.125,
          5.466,
          6.961,
          6.334,
          5.818,
          5.63,
          6.609,
          6.125,
          6.13,
          7.586,
          5.569,
          5.559,
          4.17,
          6.122,
          6.455,
          7.804,
          6.661,
          5.109,
          6.892,
          5.931,
          6.15,
          6.041,
          7.53,
          4.876,
          6.911,
          7.473,
          6.405,
          5.703,
          6.129,
          4.12,
          6.144,
          5.825,
          6.213,
          2.392,
          6.763,
          7.228,
          6.012,
          6.3,
          5.902,
          6.33,
          5.819,
          5.84,
          5.722,
          7.403,
          7.123,
          6.259,
          7.315,
          6.265,
          6.26,
          5.968,
          6.589,
          5.661,
          6.463,
          6.144,
          6.587,
          6.469,
          6.65,
          5.275,
          5.951,
          6.436,
          7.395,
          7.24,
          5.33,
          5.843,
          5.071,
          6.571,
          6.796,
          6.894,
          6.494,
          6.014,
          5.211,
          5.763
         ],
         "y0": " ",
         "yaxis": "y"
        }
       ],
       "layout": {
        "boxmode": "overlay",
        "height": 600,
        "legend": {
         "title": {
          "text": "Marriage Rate Range (%)"
         },
         "tracegroupgap": 0
        },
        "showlegend": false,
        "template": {
         "data": {
          "bar": [
           {
            "error_x": {
             "color": "#2a3f5f"
            },
            "error_y": {
             "color": "#2a3f5f"
            },
            "marker": {
             "line": {
              "color": "white",
              "width": 0.5
             },
             "pattern": {
              "fillmode": "overlay",
              "size": 10,
              "solidity": 0.2
             }
            },
            "type": "bar"
           }
          ],
          "barpolar": [
           {
            "marker": {
             "line": {
              "color": "white",
              "width": 0.5
             },
             "pattern": {
              "fillmode": "overlay",
              "size": 10,
              "solidity": 0.2
             }
            },
            "type": "barpolar"
           }
          ],
          "carpet": [
           {
            "aaxis": {
             "endlinecolor": "#2a3f5f",
             "gridcolor": "#C8D4E3",
             "linecolor": "#C8D4E3",
             "minorgridcolor": "#C8D4E3",
             "startlinecolor": "#2a3f5f"
            },
            "baxis": {
             "endlinecolor": "#2a3f5f",
             "gridcolor": "#C8D4E3",
             "linecolor": "#C8D4E3",
             "minorgridcolor": "#C8D4E3",
             "startlinecolor": "#2a3f5f"
            },
            "type": "carpet"
           }
          ],
          "choropleth": [
           {
            "colorbar": {
             "outlinewidth": 0,
             "ticks": ""
            },
            "type": "choropleth"
           }
          ],
          "contour": [
           {
            "colorbar": {
             "outlinewidth": 0,
             "ticks": ""
            },
            "colorscale": [
             [
              0,
              "#0d0887"
             ],
             [
              0.1111111111111111,
              "#46039f"
             ],
             [
              0.2222222222222222,
              "#7201a8"
             ],
             [
              0.3333333333333333,
              "#9c179e"
             ],
             [
              0.4444444444444444,
              "#bd3786"
             ],
             [
              0.5555555555555556,
              "#d8576b"
             ],
             [
              0.6666666666666666,
              "#ed7953"
             ],
             [
              0.7777777777777778,
              "#fb9f3a"
             ],
             [
              0.8888888888888888,
              "#fdca26"
             ],
             [
              1,
              "#f0f921"
             ]
            ],
            "type": "contour"
           }
          ],
          "contourcarpet": [
           {
            "colorbar": {
             "outlinewidth": 0,
             "ticks": ""
            },
            "type": "contourcarpet"
           }
          ],
          "heatmap": [
           {
            "colorbar": {
             "outlinewidth": 0,
             "ticks": ""
            },
            "colorscale": [
             [
              0,
              "#0d0887"
             ],
             [
              0.1111111111111111,
              "#46039f"
             ],
             [
              0.2222222222222222,
              "#7201a8"
             ],
             [
              0.3333333333333333,
              "#9c179e"
             ],
             [
              0.4444444444444444,
              "#bd3786"
             ],
             [
              0.5555555555555556,
              "#d8576b"
             ],
             [
              0.6666666666666666,
              "#ed7953"
             ],
             [
              0.7777777777777778,
              "#fb9f3a"
             ],
             [
              0.8888888888888888,
              "#fdca26"
             ],
             [
              1,
              "#f0f921"
             ]
            ],
            "type": "heatmap"
           }
          ],
          "heatmapgl": [
           {
            "colorbar": {
             "outlinewidth": 0,
             "ticks": ""
            },
            "colorscale": [
             [
              0,
              "#0d0887"
             ],
             [
              0.1111111111111111,
              "#46039f"
             ],
             [
              0.2222222222222222,
              "#7201a8"
             ],
             [
              0.3333333333333333,
              "#9c179e"
             ],
             [
              0.4444444444444444,
              "#bd3786"
             ],
             [
              0.5555555555555556,
              "#d8576b"
             ],
             [
              0.6666666666666666,
              "#ed7953"
             ],
             [
              0.7777777777777778,
              "#fb9f3a"
             ],
             [
              0.8888888888888888,
              "#fdca26"
             ],
             [
              1,
              "#f0f921"
             ]
            ],
            "type": "heatmapgl"
           }
          ],
          "histogram": [
           {
            "marker": {
             "pattern": {
              "fillmode": "overlay",
              "size": 10,
              "solidity": 0.2
             }
            },
            "type": "histogram"
           }
          ],
          "histogram2d": [
           {
            "colorbar": {
             "outlinewidth": 0,
             "ticks": ""
            },
            "colorscale": [
             [
              0,
              "#0d0887"
             ],
             [
              0.1111111111111111,
              "#46039f"
             ],
             [
              0.2222222222222222,
              "#7201a8"
             ],
             [
              0.3333333333333333,
              "#9c179e"
             ],
             [
              0.4444444444444444,
              "#bd3786"
             ],
             [
              0.5555555555555556,
              "#d8576b"
             ],
             [
              0.6666666666666666,
              "#ed7953"
             ],
             [
              0.7777777777777778,
              "#fb9f3a"
             ],
             [
              0.8888888888888888,
              "#fdca26"
             ],
             [
              1,
              "#f0f921"
             ]
            ],
            "type": "histogram2d"
           }
          ],
          "histogram2dcontour": [
           {
            "colorbar": {
             "outlinewidth": 0,
             "ticks": ""
            },
            "colorscale": [
             [
              0,
              "#0d0887"
             ],
             [
              0.1111111111111111,
              "#46039f"
             ],
             [
              0.2222222222222222,
              "#7201a8"
             ],
             [
              0.3333333333333333,
              "#9c179e"
             ],
             [
              0.4444444444444444,
              "#bd3786"
             ],
             [
              0.5555555555555556,
              "#d8576b"
             ],
             [
              0.6666666666666666,
              "#ed7953"
             ],
             [
              0.7777777777777778,
              "#fb9f3a"
             ],
             [
              0.8888888888888888,
              "#fdca26"
             ],
             [
              1,
              "#f0f921"
             ]
            ],
            "type": "histogram2dcontour"
           }
          ],
          "mesh3d": [
           {
            "colorbar": {
             "outlinewidth": 0,
             "ticks": ""
            },
            "type": "mesh3d"
           }
          ],
          "parcoords": [
           {
            "line": {
             "colorbar": {
              "outlinewidth": 0,
              "ticks": ""
             }
            },
            "type": "parcoords"
           }
          ],
          "pie": [
           {
            "automargin": true,
            "type": "pie"
           }
          ],
          "scatter": [
           {
            "fillpattern": {
             "fillmode": "overlay",
             "size": 10,
             "solidity": 0.2
            },
            "type": "scatter"
           }
          ],
          "scatter3d": [
           {
            "line": {
             "colorbar": {
              "outlinewidth": 0,
              "ticks": ""
             }
            },
            "marker": {
             "colorbar": {
              "outlinewidth": 0,
              "ticks": ""
             }
            },
            "type": "scatter3d"
           }
          ],
          "scattercarpet": [
           {
            "marker": {
             "colorbar": {
              "outlinewidth": 0,
              "ticks": ""
             }
            },
            "type": "scattercarpet"
           }
          ],
          "scattergeo": [
           {
            "marker": {
             "colorbar": {
              "outlinewidth": 0,
              "ticks": ""
             }
            },
            "type": "scattergeo"
           }
          ],
          "scattergl": [
           {
            "marker": {
             "colorbar": {
              "outlinewidth": 0,
              "ticks": ""
             }
            },
            "type": "scattergl"
           }
          ],
          "scattermapbox": [
           {
            "marker": {
             "colorbar": {
              "outlinewidth": 0,
              "ticks": ""
             }
            },
            "type": "scattermapbox"
           }
          ],
          "scatterpolar": [
           {
            "marker": {
             "colorbar": {
              "outlinewidth": 0,
              "ticks": ""
             }
            },
            "type": "scatterpolar"
           }
          ],
          "scatterpolargl": [
           {
            "marker": {
             "colorbar": {
              "outlinewidth": 0,
              "ticks": ""
             }
            },
            "type": "scatterpolargl"
           }
          ],
          "scatterternary": [
           {
            "marker": {
             "colorbar": {
              "outlinewidth": 0,
              "ticks": ""
             }
            },
            "type": "scatterternary"
           }
          ],
          "surface": [
           {
            "colorbar": {
             "outlinewidth": 0,
             "ticks": ""
            },
            "colorscale": [
             [
              0,
              "#0d0887"
             ],
             [
              0.1111111111111111,
              "#46039f"
             ],
             [
              0.2222222222222222,
              "#7201a8"
             ],
             [
              0.3333333333333333,
              "#9c179e"
             ],
             [
              0.4444444444444444,
              "#bd3786"
             ],
             [
              0.5555555555555556,
              "#d8576b"
             ],
             [
              0.6666666666666666,
              "#ed7953"
             ],
             [
              0.7777777777777778,
              "#fb9f3a"
             ],
             [
              0.8888888888888888,
              "#fdca26"
             ],
             [
              1,
              "#f0f921"
             ]
            ],
            "type": "surface"
           }
          ],
          "table": [
           {
            "cells": {
             "fill": {
              "color": "#EBF0F8"
             },
             "line": {
              "color": "white"
             }
            },
            "header": {
             "fill": {
              "color": "#C8D4E3"
             },
             "line": {
              "color": "white"
             }
            },
            "type": "table"
           }
          ]
         },
         "layout": {
          "annotationdefaults": {
           "arrowcolor": "#2a3f5f",
           "arrowhead": 0,
           "arrowwidth": 1
          },
          "autotypenumbers": "strict",
          "coloraxis": {
           "colorbar": {
            "outlinewidth": 0,
            "ticks": ""
           }
          },
          "colorscale": {
           "diverging": [
            [
             0,
             "#8e0152"
            ],
            [
             0.1,
             "#c51b7d"
            ],
            [
             0.2,
             "#de77ae"
            ],
            [
             0.3,
             "#f1b6da"
            ],
            [
             0.4,
             "#fde0ef"
            ],
            [
             0.5,
             "#f7f7f7"
            ],
            [
             0.6,
             "#e6f5d0"
            ],
            [
             0.7,
             "#b8e186"
            ],
            [
             0.8,
             "#7fbc41"
            ],
            [
             0.9,
             "#4d9221"
            ],
            [
             1,
             "#276419"
            ]
           ],
           "sequential": [
            [
             0,
             "#0d0887"
            ],
            [
             0.1111111111111111,
             "#46039f"
            ],
            [
             0.2222222222222222,
             "#7201a8"
            ],
            [
             0.3333333333333333,
             "#9c179e"
            ],
            [
             0.4444444444444444,
             "#bd3786"
            ],
            [
             0.5555555555555556,
             "#d8576b"
            ],
            [
             0.6666666666666666,
             "#ed7953"
            ],
            [
             0.7777777777777778,
             "#fb9f3a"
            ],
            [
             0.8888888888888888,
             "#fdca26"
            ],
            [
             1,
             "#f0f921"
            ]
           ],
           "sequentialminus": [
            [
             0,
             "#0d0887"
            ],
            [
             0.1111111111111111,
             "#46039f"
            ],
            [
             0.2222222222222222,
             "#7201a8"
            ],
            [
             0.3333333333333333,
             "#9c179e"
            ],
            [
             0.4444444444444444,
             "#bd3786"
            ],
            [
             0.5555555555555556,
             "#d8576b"
            ],
            [
             0.6666666666666666,
             "#ed7953"
            ],
            [
             0.7777777777777778,
             "#fb9f3a"
            ],
            [
             0.8888888888888888,
             "#fdca26"
            ],
            [
             1,
             "#f0f921"
            ]
           ]
          },
          "colorway": [
           "#636efa",
           "#EF553B",
           "#00cc96",
           "#ab63fa",
           "#FFA15A",
           "#19d3f3",
           "#FF6692",
           "#B6E880",
           "#FF97FF",
           "#FECB52"
          ],
          "font": {
           "color": "#2a3f5f"
          },
          "geo": {
           "bgcolor": "white",
           "lakecolor": "white",
           "landcolor": "white",
           "showlakes": true,
           "showland": true,
           "subunitcolor": "#C8D4E3"
          },
          "hoverlabel": {
           "align": "left"
          },
          "hovermode": "closest",
          "mapbox": {
           "style": "light"
          },
          "paper_bgcolor": "white",
          "plot_bgcolor": "white",
          "polar": {
           "angularaxis": {
            "gridcolor": "#EBF0F8",
            "linecolor": "#EBF0F8",
            "ticks": ""
           },
           "bgcolor": "white",
           "radialaxis": {
            "gridcolor": "#EBF0F8",
            "linecolor": "#EBF0F8",
            "ticks": ""
           }
          },
          "scene": {
           "xaxis": {
            "backgroundcolor": "white",
            "gridcolor": "#DFE8F3",
            "gridwidth": 2,
            "linecolor": "#EBF0F8",
            "showbackground": true,
            "ticks": "",
            "zerolinecolor": "#EBF0F8"
           },
           "yaxis": {
            "backgroundcolor": "white",
            "gridcolor": "#DFE8F3",
            "gridwidth": 2,
            "linecolor": "#EBF0F8",
            "showbackground": true,
            "ticks": "",
            "zerolinecolor": "#EBF0F8"
           },
           "zaxis": {
            "backgroundcolor": "white",
            "gridcolor": "#DFE8F3",
            "gridwidth": 2,
            "linecolor": "#EBF0F8",
            "showbackground": true,
            "ticks": "",
            "zerolinecolor": "#EBF0F8"
           }
          },
          "shapedefaults": {
           "line": {
            "color": "#2a3f5f"
           }
          },
          "ternary": {
           "aaxis": {
            "gridcolor": "#DFE8F3",
            "linecolor": "#A2B1C6",
            "ticks": ""
           },
           "baxis": {
            "gridcolor": "#DFE8F3",
            "linecolor": "#A2B1C6",
            "ticks": ""
           },
           "bgcolor": "white",
           "caxis": {
            "gridcolor": "#DFE8F3",
            "linecolor": "#A2B1C6",
            "ticks": ""
           }
          },
          "title": {
           "x": 0.05
          },
          "xaxis": {
           "automargin": true,
           "gridcolor": "#EBF0F8",
           "linecolor": "#EBF0F8",
           "ticks": "",
           "title": {
            "standoff": 15
           },
           "zerolinecolor": "#EBF0F8",
           "zerolinewidth": 2
          },
          "yaxis": {
           "automargin": true,
           "gridcolor": "#EBF0F8",
           "linecolor": "#EBF0F8",
           "ticks": "",
           "title": {
            "standoff": 15
           },
           "zerolinecolor": "#EBF0F8",
           "zerolinewidth": 2
          }
         }
        },
        "title": {
         "text": "Happiness Score Across Marriage Rate Ranges"
        },
        "width": 1000,
        "xaxis": {
         "anchor": "y",
         "categoryarray": [
          "0-20%",
          null
         ],
         "categoryorder": "array",
         "domain": [
          0,
          1
         ],
         "title": {
          "text": "Marriage Rate Range (%)"
         }
        },
        "yaxis": {
         "anchor": "x",
         "domain": [
          0,
          1
         ],
         "title": {
          "text": "Happiness Score"
         }
        }
       }
      }
     },
     "metadata": {},
     "output_type": "display_data"
    }
   ],
   "source": [
    "import plotly.express as px\n",
    "\n",
    "# Interactive Box Plot with Jitter: Happiness Score Across Marriage Rate Ranges\n",
    "bins = [0, 20, 40, 60, 80, 100]\n",
    "labels = ['0-20%', '20-40%', '40-60%', '60-80%', '80-100%']\n",
    "marriage_happiness['marriage_range'] = pd.cut(marriage_happiness['Marriage'], bins=bins, labels=labels, include_lowest=True)\n",
    "\n",
    "fig_box_jitter = px.box(\n",
    "    marriage_happiness,\n",
    "    x='marriage_range',\n",
    "    y='happiness_score',\n",
    "    color='marriage_range',\n",
    "    points='all',\n",
    "    hover_data=['country', 'Marriage', 'happiness_score'],\n",
    "    title='Happiness Score Across Marriage Rate Ranges',\n",
    "    labels={'marriage_range': 'Marriage Rate Range (%)', 'happiness_score': 'Happiness Score'},\n",
    "    template='plotly_white'\n",
    ")\n",
    "\n",
    "fig_box_jitter.update_layout(\n",
    "    showlegend=False,\n",
    "    xaxis_title='Marriage Rate Range (%)',\n",
    "    yaxis_title='Happiness Score',\n",
    "    height=600,\n",
    "    width=1000\n",
    ")\n",
    "\n",
    "fig_box_jitter.show()"
   ]
  },
  {
   "cell_type": "code",
   "execution_count": 88,
   "metadata": {},
   "outputs": [
    {
     "data": {
      "application/vnd.plotly.v1+json": {
       "config": {
        "plotlyServerURL": "https://plot.ly"
       },
       "data": [
        {
         "coloraxis": "coloraxis",
         "geo": "geo",
         "hovertemplate": "<b>%{hovertext}</b><br><br>country=%{location}<br>Marriage=%{z}<extra></extra>",
         "hovertext": [
          "Albania",
          "Algeria",
          "Armenia",
          "Australia",
          "Austria",
          "Azerbaijan",
          "Bahamas",
          "Belarus",
          "Belgium",
          "Bermuda",
          "Bosnia and Herzegovina",
          "Brazil",
          "Bulgaria",
          "Canada",
          "Chile",
          "China",
          "Colombia",
          "Costa Rica",
          "Croatia",
          "Cuba",
          "Cyprus",
          "Czech Republic",
          "Denmark",
          "Dominican Republic",
          "Ecuador",
          "El Salvador",
          "Estonia",
          "European Union",
          "Finland",
          "France",
          "Georgia",
          "Germany",
          "Gibraltar",
          "Grenada",
          "Greece",
          "Guatemala",
          "Hungary",
          "Iceland",
          "Ireland",
          "Israel",
          "Italy",
          "Jamaica",
          "Japan",
          "Jordan",
          "Kazakhstan",
          "Kuwait",
          "Kyrgyzstan",
          "Latvia",
          "Lebanon",
          "Libya",
          "Liechtenstein",
          "Lithuania",
          "Luxembourg",
          "Malaysia",
          "Malta",
          "Mauritius",
          "Mexico",
          "Moldova",
          "Mongolia",
          "Montenegro",
          "Netherlands",
          "New Zealand",
          "Nicaragua",
          "Macedonia",
          "Norway",
          "Panama",
          "Poland",
          "Portugal",
          "Qatar",
          "Romania",
          "Russia",
          "Saint Lucia",
          "Saint Vincent and the Grenadines",
          "San Marino",
          "Saudi Arabia",
          "Serbia",
          "Singapore",
          "Slovakia",
          "Slovenia",
          "South Africa",
          "South Korea",
          "Spain",
          "Suriname",
          "Sweden",
          "Switzerland",
          "Syria",
          "Taiwan",
          "Thailand",
          "Tonga",
          "Trinidad and Tobago",
          "Turkey",
          "Ukraine",
          "United Arab Emirates",
          "United Kingdom",
          "United States",
          "Uruguay",
          "Uzbekistan",
          "Venezuela",
          "Vietnam"
         ],
         "locationmode": "country names",
         "locations": [
          "Albania",
          "Algeria",
          "Armenia",
          "Australia",
          "Austria",
          "Azerbaijan",
          "Bahamas",
          "Belarus",
          "Belgium",
          "Bermuda",
          "Bosnia and Herzegovina",
          "Brazil",
          "Bulgaria",
          "Canada",
          "Chile",
          "China",
          "Colombia",
          "Costa Rica",
          "Croatia",
          "Cuba",
          "Cyprus",
          "Czech Republic",
          "Denmark",
          "Dominican Republic",
          "Ecuador",
          "El Salvador",
          "Estonia",
          "European Union",
          "Finland",
          "France",
          "Georgia",
          "Germany",
          "Gibraltar",
          "Grenada",
          "Greece",
          "Guatemala",
          "Hungary",
          "Iceland",
          "Ireland",
          "Israel",
          "Italy",
          "Jamaica",
          "Japan",
          "Jordan",
          "Kazakhstan",
          "Kuwait",
          "Kyrgyzstan",
          "Latvia",
          "Lebanon",
          "Libya",
          "Liechtenstein",
          "Lithuania",
          "Luxembourg",
          "Malaysia",
          "Malta",
          "Mauritius",
          "Mexico",
          "Moldova",
          "Mongolia",
          "Montenegro",
          "Netherlands",
          "New Zealand",
          "Nicaragua",
          "Macedonia",
          "Norway",
          "Panama",
          "Poland",
          "Portugal",
          "Qatar",
          "Romania",
          "Russia",
          "Saint Lucia",
          "Saint Vincent and the Grenadines",
          "San Marino",
          "Saudi Arabia",
          "Serbia",
          "Singapore",
          "Slovakia",
          "Slovenia",
          "South Africa",
          "South Korea",
          "Spain",
          "Suriname",
          "Sweden",
          "Switzerland",
          "Syria",
          "Taiwan",
          "Thailand",
          "Tonga",
          "Trinidad and Tobago",
          "Turkey",
          "Ukraine",
          "United Arab Emirates",
          "United Kingdom",
          "United States",
          "Uruguay",
          "Uzbekistan",
          "Venezuela",
          "Vietnam"
         ],
         "name": "",
         "type": "choropleth",
         "z": [
          8.1,
          10.1,
          6,
          4.6,
          5.3,
          9.7,
          6.1,
          9.2,
          3.9,
          10.6,
          4.8,
          6.6,
          4.1,
          4.4,
          3.3,
          7.2,
          2.3,
          5.3,
          4.9,
          5.2,
          6.8,
          5.1,
          5.6,
          4.4,
          5.6,
          3.5,
          5,
          4.4,
          4.3,
          3.7,
          6.9,
          4.9,
          6.7,
          5,
          4.7,
          3.8,
          5.2,
          4.9,
          4.6,
          6.5,
          3.2,
          7.5,
          4.8,
          6.7,
          7.3,
          5.2,
          9.7,
          6.8,
          9.5,
          10.8,
          5,
          7,
          2.9,
          6.4,
          5.8,
          8.2,
          5.2,
          7.3,
          3.4,
          5.3,
          3.7,
          4.8,
          4.5,
          6.5,
          4.3,
          3.7,
          5.1,
          1.8,
          3.3,
          7.4,
          5.3,
          2.8,
          5.8,
          6.1,
          5.6,
          5.2,
          6.8,
          5.7,
          3.5,
          3.5,
          4.7,
          1.9,
          4.2,
          5,
          4.8,
          10.6,
          5.7,
          5.5,
          7.1,
          6.3,
          6.8,
          4.06,
          2.8,
          4.4,
          5.1,
          3.2,
          7.8,
          3.3,
          5.7
         ]
        }
       ],
       "layout": {
        "coloraxis": {
         "colorbar": {
          "title": {
           "text": "Marriage"
          }
         },
         "colorscale": [
          [
           0,
           "#440154"
          ],
          [
           0.1111111111111111,
           "#482878"
          ],
          [
           0.2222222222222222,
           "#3e4989"
          ],
          [
           0.3333333333333333,
           "#31688e"
          ],
          [
           0.4444444444444444,
           "#26828e"
          ],
          [
           0.5555555555555556,
           "#1f9e89"
          ],
          [
           0.6666666666666666,
           "#35b779"
          ],
          [
           0.7777777777777778,
           "#6ece58"
          ],
          [
           0.8888888888888888,
           "#b5de2b"
          ],
          [
           1,
           "#fde725"
          ]
         ]
        },
        "geo": {
         "center": {},
         "domain": {
          "x": [
           0,
           1
          ],
          "y": [
           0,
           1
          ]
         },
         "projection": {
          "type": "equirectangular"
         },
         "showcoastlines": true,
         "showframe": false
        },
        "legend": {
         "tracegroupgap": 0
        },
        "template": {
         "data": {
          "bar": [
           {
            "error_x": {
             "color": "#2a3f5f"
            },
            "error_y": {
             "color": "#2a3f5f"
            },
            "marker": {
             "line": {
              "color": "#E5ECF6",
              "width": 0.5
             },
             "pattern": {
              "fillmode": "overlay",
              "size": 10,
              "solidity": 0.2
             }
            },
            "type": "bar"
           }
          ],
          "barpolar": [
           {
            "marker": {
             "line": {
              "color": "#E5ECF6",
              "width": 0.5
             },
             "pattern": {
              "fillmode": "overlay",
              "size": 10,
              "solidity": 0.2
             }
            },
            "type": "barpolar"
           }
          ],
          "carpet": [
           {
            "aaxis": {
             "endlinecolor": "#2a3f5f",
             "gridcolor": "white",
             "linecolor": "white",
             "minorgridcolor": "white",
             "startlinecolor": "#2a3f5f"
            },
            "baxis": {
             "endlinecolor": "#2a3f5f",
             "gridcolor": "white",
             "linecolor": "white",
             "minorgridcolor": "white",
             "startlinecolor": "#2a3f5f"
            },
            "type": "carpet"
           }
          ],
          "choropleth": [
           {
            "colorbar": {
             "outlinewidth": 0,
             "ticks": ""
            },
            "type": "choropleth"
           }
          ],
          "contour": [
           {
            "colorbar": {
             "outlinewidth": 0,
             "ticks": ""
            },
            "colorscale": [
             [
              0,
              "#0d0887"
             ],
             [
              0.1111111111111111,
              "#46039f"
             ],
             [
              0.2222222222222222,
              "#7201a8"
             ],
             [
              0.3333333333333333,
              "#9c179e"
             ],
             [
              0.4444444444444444,
              "#bd3786"
             ],
             [
              0.5555555555555556,
              "#d8576b"
             ],
             [
              0.6666666666666666,
              "#ed7953"
             ],
             [
              0.7777777777777778,
              "#fb9f3a"
             ],
             [
              0.8888888888888888,
              "#fdca26"
             ],
             [
              1,
              "#f0f921"
             ]
            ],
            "type": "contour"
           }
          ],
          "contourcarpet": [
           {
            "colorbar": {
             "outlinewidth": 0,
             "ticks": ""
            },
            "type": "contourcarpet"
           }
          ],
          "heatmap": [
           {
            "colorbar": {
             "outlinewidth": 0,
             "ticks": ""
            },
            "colorscale": [
             [
              0,
              "#0d0887"
             ],
             [
              0.1111111111111111,
              "#46039f"
             ],
             [
              0.2222222222222222,
              "#7201a8"
             ],
             [
              0.3333333333333333,
              "#9c179e"
             ],
             [
              0.4444444444444444,
              "#bd3786"
             ],
             [
              0.5555555555555556,
              "#d8576b"
             ],
             [
              0.6666666666666666,
              "#ed7953"
             ],
             [
              0.7777777777777778,
              "#fb9f3a"
             ],
             [
              0.8888888888888888,
              "#fdca26"
             ],
             [
              1,
              "#f0f921"
             ]
            ],
            "type": "heatmap"
           }
          ],
          "heatmapgl": [
           {
            "colorbar": {
             "outlinewidth": 0,
             "ticks": ""
            },
            "colorscale": [
             [
              0,
              "#0d0887"
             ],
             [
              0.1111111111111111,
              "#46039f"
             ],
             [
              0.2222222222222222,
              "#7201a8"
             ],
             [
              0.3333333333333333,
              "#9c179e"
             ],
             [
              0.4444444444444444,
              "#bd3786"
             ],
             [
              0.5555555555555556,
              "#d8576b"
             ],
             [
              0.6666666666666666,
              "#ed7953"
             ],
             [
              0.7777777777777778,
              "#fb9f3a"
             ],
             [
              0.8888888888888888,
              "#fdca26"
             ],
             [
              1,
              "#f0f921"
             ]
            ],
            "type": "heatmapgl"
           }
          ],
          "histogram": [
           {
            "marker": {
             "pattern": {
              "fillmode": "overlay",
              "size": 10,
              "solidity": 0.2
             }
            },
            "type": "histogram"
           }
          ],
          "histogram2d": [
           {
            "colorbar": {
             "outlinewidth": 0,
             "ticks": ""
            },
            "colorscale": [
             [
              0,
              "#0d0887"
             ],
             [
              0.1111111111111111,
              "#46039f"
             ],
             [
              0.2222222222222222,
              "#7201a8"
             ],
             [
              0.3333333333333333,
              "#9c179e"
             ],
             [
              0.4444444444444444,
              "#bd3786"
             ],
             [
              0.5555555555555556,
              "#d8576b"
             ],
             [
              0.6666666666666666,
              "#ed7953"
             ],
             [
              0.7777777777777778,
              "#fb9f3a"
             ],
             [
              0.8888888888888888,
              "#fdca26"
             ],
             [
              1,
              "#f0f921"
             ]
            ],
            "type": "histogram2d"
           }
          ],
          "histogram2dcontour": [
           {
            "colorbar": {
             "outlinewidth": 0,
             "ticks": ""
            },
            "colorscale": [
             [
              0,
              "#0d0887"
             ],
             [
              0.1111111111111111,
              "#46039f"
             ],
             [
              0.2222222222222222,
              "#7201a8"
             ],
             [
              0.3333333333333333,
              "#9c179e"
             ],
             [
              0.4444444444444444,
              "#bd3786"
             ],
             [
              0.5555555555555556,
              "#d8576b"
             ],
             [
              0.6666666666666666,
              "#ed7953"
             ],
             [
              0.7777777777777778,
              "#fb9f3a"
             ],
             [
              0.8888888888888888,
              "#fdca26"
             ],
             [
              1,
              "#f0f921"
             ]
            ],
            "type": "histogram2dcontour"
           }
          ],
          "mesh3d": [
           {
            "colorbar": {
             "outlinewidth": 0,
             "ticks": ""
            },
            "type": "mesh3d"
           }
          ],
          "parcoords": [
           {
            "line": {
             "colorbar": {
              "outlinewidth": 0,
              "ticks": ""
             }
            },
            "type": "parcoords"
           }
          ],
          "pie": [
           {
            "automargin": true,
            "type": "pie"
           }
          ],
          "scatter": [
           {
            "fillpattern": {
             "fillmode": "overlay",
             "size": 10,
             "solidity": 0.2
            },
            "type": "scatter"
           }
          ],
          "scatter3d": [
           {
            "line": {
             "colorbar": {
              "outlinewidth": 0,
              "ticks": ""
             }
            },
            "marker": {
             "colorbar": {
              "outlinewidth": 0,
              "ticks": ""
             }
            },
            "type": "scatter3d"
           }
          ],
          "scattercarpet": [
           {
            "marker": {
             "colorbar": {
              "outlinewidth": 0,
              "ticks": ""
             }
            },
            "type": "scattercarpet"
           }
          ],
          "scattergeo": [
           {
            "marker": {
             "colorbar": {
              "outlinewidth": 0,
              "ticks": ""
             }
            },
            "type": "scattergeo"
           }
          ],
          "scattergl": [
           {
            "marker": {
             "colorbar": {
              "outlinewidth": 0,
              "ticks": ""
             }
            },
            "type": "scattergl"
           }
          ],
          "scattermapbox": [
           {
            "marker": {
             "colorbar": {
              "outlinewidth": 0,
              "ticks": ""
             }
            },
            "type": "scattermapbox"
           }
          ],
          "scatterpolar": [
           {
            "marker": {
             "colorbar": {
              "outlinewidth": 0,
              "ticks": ""
             }
            },
            "type": "scatterpolar"
           }
          ],
          "scatterpolargl": [
           {
            "marker": {
             "colorbar": {
              "outlinewidth": 0,
              "ticks": ""
             }
            },
            "type": "scatterpolargl"
           }
          ],
          "scatterternary": [
           {
            "marker": {
             "colorbar": {
              "outlinewidth": 0,
              "ticks": ""
             }
            },
            "type": "scatterternary"
           }
          ],
          "surface": [
           {
            "colorbar": {
             "outlinewidth": 0,
             "ticks": ""
            },
            "colorscale": [
             [
              0,
              "#0d0887"
             ],
             [
              0.1111111111111111,
              "#46039f"
             ],
             [
              0.2222222222222222,
              "#7201a8"
             ],
             [
              0.3333333333333333,
              "#9c179e"
             ],
             [
              0.4444444444444444,
              "#bd3786"
             ],
             [
              0.5555555555555556,
              "#d8576b"
             ],
             [
              0.6666666666666666,
              "#ed7953"
             ],
             [
              0.7777777777777778,
              "#fb9f3a"
             ],
             [
              0.8888888888888888,
              "#fdca26"
             ],
             [
              1,
              "#f0f921"
             ]
            ],
            "type": "surface"
           }
          ],
          "table": [
           {
            "cells": {
             "fill": {
              "color": "#EBF0F8"
             },
             "line": {
              "color": "white"
             }
            },
            "header": {
             "fill": {
              "color": "#C8D4E3"
             },
             "line": {
              "color": "white"
             }
            },
            "type": "table"
           }
          ]
         },
         "layout": {
          "annotationdefaults": {
           "arrowcolor": "#2a3f5f",
           "arrowhead": 0,
           "arrowwidth": 1
          },
          "autotypenumbers": "strict",
          "coloraxis": {
           "colorbar": {
            "outlinewidth": 0,
            "ticks": ""
           }
          },
          "colorscale": {
           "diverging": [
            [
             0,
             "#8e0152"
            ],
            [
             0.1,
             "#c51b7d"
            ],
            [
             0.2,
             "#de77ae"
            ],
            [
             0.3,
             "#f1b6da"
            ],
            [
             0.4,
             "#fde0ef"
            ],
            [
             0.5,
             "#f7f7f7"
            ],
            [
             0.6,
             "#e6f5d0"
            ],
            [
             0.7,
             "#b8e186"
            ],
            [
             0.8,
             "#7fbc41"
            ],
            [
             0.9,
             "#4d9221"
            ],
            [
             1,
             "#276419"
            ]
           ],
           "sequential": [
            [
             0,
             "#0d0887"
            ],
            [
             0.1111111111111111,
             "#46039f"
            ],
            [
             0.2222222222222222,
             "#7201a8"
            ],
            [
             0.3333333333333333,
             "#9c179e"
            ],
            [
             0.4444444444444444,
             "#bd3786"
            ],
            [
             0.5555555555555556,
             "#d8576b"
            ],
            [
             0.6666666666666666,
             "#ed7953"
            ],
            [
             0.7777777777777778,
             "#fb9f3a"
            ],
            [
             0.8888888888888888,
             "#fdca26"
            ],
            [
             1,
             "#f0f921"
            ]
           ],
           "sequentialminus": [
            [
             0,
             "#0d0887"
            ],
            [
             0.1111111111111111,
             "#46039f"
            ],
            [
             0.2222222222222222,
             "#7201a8"
            ],
            [
             0.3333333333333333,
             "#9c179e"
            ],
            [
             0.4444444444444444,
             "#bd3786"
            ],
            [
             0.5555555555555556,
             "#d8576b"
            ],
            [
             0.6666666666666666,
             "#ed7953"
            ],
            [
             0.7777777777777778,
             "#fb9f3a"
            ],
            [
             0.8888888888888888,
             "#fdca26"
            ],
            [
             1,
             "#f0f921"
            ]
           ]
          },
          "colorway": [
           "#636efa",
           "#EF553B",
           "#00cc96",
           "#ab63fa",
           "#FFA15A",
           "#19d3f3",
           "#FF6692",
           "#B6E880",
           "#FF97FF",
           "#FECB52"
          ],
          "font": {
           "color": "#2a3f5f"
          },
          "geo": {
           "bgcolor": "white",
           "lakecolor": "white",
           "landcolor": "#E5ECF6",
           "showlakes": true,
           "showland": true,
           "subunitcolor": "white"
          },
          "hoverlabel": {
           "align": "left"
          },
          "hovermode": "closest",
          "mapbox": {
           "style": "light"
          },
          "paper_bgcolor": "white",
          "plot_bgcolor": "#E5ECF6",
          "polar": {
           "angularaxis": {
            "gridcolor": "white",
            "linecolor": "white",
            "ticks": ""
           },
           "bgcolor": "#E5ECF6",
           "radialaxis": {
            "gridcolor": "white",
            "linecolor": "white",
            "ticks": ""
           }
          },
          "scene": {
           "xaxis": {
            "backgroundcolor": "#E5ECF6",
            "gridcolor": "white",
            "gridwidth": 2,
            "linecolor": "white",
            "showbackground": true,
            "ticks": "",
            "zerolinecolor": "white"
           },
           "yaxis": {
            "backgroundcolor": "#E5ECF6",
            "gridcolor": "white",
            "gridwidth": 2,
            "linecolor": "white",
            "showbackground": true,
            "ticks": "",
            "zerolinecolor": "white"
           },
           "zaxis": {
            "backgroundcolor": "#E5ECF6",
            "gridcolor": "white",
            "gridwidth": 2,
            "linecolor": "white",
            "showbackground": true,
            "ticks": "",
            "zerolinecolor": "white"
           }
          },
          "shapedefaults": {
           "line": {
            "color": "#2a3f5f"
           }
          },
          "ternary": {
           "aaxis": {
            "gridcolor": "white",
            "linecolor": "white",
            "ticks": ""
           },
           "baxis": {
            "gridcolor": "white",
            "linecolor": "white",
            "ticks": ""
           },
           "bgcolor": "#E5ECF6",
           "caxis": {
            "gridcolor": "white",
            "linecolor": "white",
            "ticks": ""
           }
          },
          "title": {
           "x": 0.05
          },
          "xaxis": {
           "automargin": true,
           "gridcolor": "white",
           "linecolor": "white",
           "ticks": "",
           "title": {
            "standoff": 15
           },
           "zerolinecolor": "white",
           "zerolinewidth": 2
          },
          "yaxis": {
           "automargin": true,
           "gridcolor": "white",
           "linecolor": "white",
           "ticks": "",
           "title": {
            "standoff": 15
           },
           "zerolinecolor": "white",
           "zerolinewidth": 2
          }
         }
        },
        "title": {
         "text": "World Marriage Scores by Country"
        }
       }
      }
     },
     "metadata": {},
     "output_type": "display_data"
    }
   ],
   "source": [
    "import pandas as pd\n",
    "import plotly.express as px\n",
    "import plotly.graph_objects as go\n",
    "\n",
    "# Assuming iq_happy_data is your DataFrame with 'IQ', 'happiness_score', and 'country' columns\n",
    "filtered_marriage = marriage.query('Marriage < 11')\n",
    "# Create a choropleth map\n",
    "fig_choropleth = px.choropleth(\n",
    "    filtered_marriage,\n",
    "    locations='country',\n",
    "    locationmode='country names',\n",
    "    color='Marriage',\n",
    "    hover_name='country',\n",
    "    color_continuous_scale='Viridis',\n",
    "    title='World Marriage Scores by Country',\n",
    "    labels={'happiness_score': 'Happiness Score'}\n",
    ")\n",
    "\n",
    "# Update layout for better visualization\n",
    "fig_choropleth.update_layout(\n",
    "    geo=dict(\n",
    "        showframe=False,\n",
    "        showcoastlines=True,\n",
    "        projection_type='equirectangular'\n",
    "    )\n",
    ")\n",
    "\n",
    "# Show the choropleth map\n",
    "fig_choropleth.show()\n"
   ]
  },
  {
   "cell_type": "code",
   "execution_count": 64,
   "metadata": {},
   "outputs": [
    {
     "data": {
      "application/vnd.plotly.v1+json": {
       "config": {
        "plotlyServerURL": "https://plot.ly"
       },
       "data": [
        {
         "hovertemplate": "region=Central and Eastern Europe<br>Marriage=%{x}<br>Happiness Score=%{y}<extra></extra>",
         "legendgroup": "Central and Eastern Europe",
         "marker": {
          "color": "#636efa",
          "symbol": "circle"
         },
         "mode": "markers",
         "name": "Central and Eastern Europe",
         "orientation": "v",
         "showlegend": true,
         "type": "scatter",
         "x": [
          8.1,
          6,
          4.8,
          4.1,
          4.9,
          5,
          6.9,
          5.2,
          6.8,
          7,
          7.3,
          5.3,
          5.1,
          7.4,
          5.3,
          5.2,
          5.7,
          3.5,
          4.06
         ],
         "xaxis": "x9",
         "y": [
          5.277,
          5.342,
          5.633,
          5.466,
          6.125,
          6.455,
          5.109,
          6.041,
          6.213,
          6.763,
          5.819,
          5.722,
          6.26,
          6.589,
          5.661,
          6.144,
          6.469,
          6.65,
          5.071
         ],
         "yaxis": "y9"
        },
        {
         "hovertemplate": "region=Middle East and North Africa<br>Marriage=%{x}<br>Happiness Score=%{y}<extra></extra>",
         "legendgroup": "Middle East and North Africa",
         "marker": {
          "color": "#EF553B",
          "symbol": "circle"
         },
         "mode": "markers",
         "name": "Middle East and North Africa",
         "orientation": "v",
         "showlegend": true,
         "type": "scatter",
         "x": [
          10.1,
          11,
          11.2,
          6.5,
          6.7,
          9.5,
          5.6,
          null,
          2.8
         ],
         "xaxis": "x10",
         "y": [
          5.329,
          4.17,
          4.876,
          7.473,
          4.12,
          2.392,
          6.463,
          4.497,
          6.571
         ],
         "yaxis": "y10"
        },
        {
         "hovertemplate": "region=North America and ANZ<br>Marriage=%{x}<br>Happiness Score=%{y}<extra></extra>",
         "legendgroup": "North America and ANZ",
         "marker": {
          "color": "#00cc96",
          "symbol": "circle"
         },
         "mode": "markers",
         "name": "North America and ANZ",
         "orientation": "v",
         "showlegend": true,
         "type": "scatter",
         "x": [
          4.6,
          4.4,
          4.8,
          5.1
         ],
         "xaxis": "x11",
         "y": [
          7.095,
          6.961,
          7.123,
          6.894
         ],
         "yaxis": "y11"
        },
        {
         "hovertemplate": "region=Western Europe<br>Marriage=%{x}<br>Happiness Score=%{y}<extra></extra>",
         "legendgroup": "Western Europe",
         "marker": {
          "color": "#ab63fa",
          "symbol": "circle"
         },
         "mode": "markers",
         "name": "Western Europe",
         "orientation": "v",
         "showlegend": true,
         "type": "scatter",
         "x": [
          5.3,
          3.9,
          6.8,
          5.6,
          4.3,
          3.7,
          4.9,
          4.7,
          4.9,
          4.6,
          3.2,
          2.9,
          5.8,
          3.7,
          4.3,
          1.8,
          1.9,
          5,
          4.8,
          4.4
         ],
         "xaxis": "x12",
         "y": [
          7.097,
          6.859,
          6.13,
          7.586,
          7.804,
          6.661,
          6.892,
          5.931,
          7.53,
          6.911,
          6.405,
          7.228,
          6.3,
          7.403,
          7.315,
          5.968,
          6.436,
          7.395,
          7.24,
          6.796
         ],
         "yaxis": "y12"
        },
        {
         "hovertemplate": "region=Latin America and Caribbean<br>Marriage=%{x}<br>Happiness Score=%{y}<extra></extra>",
         "legendgroup": "Latin America and Caribbean",
         "marker": {
          "color": "#FFA15A",
          "symbol": "circle"
         },
         "mode": "markers",
         "name": "Latin America and Caribbean",
         "orientation": "v",
         "showlegend": true,
         "type": "scatter",
         "x": [
          6.6,
          3.3,
          2.3,
          5.3,
          4.4,
          5.6,
          3.5,
          3.8,
          7.5,
          5.2,
          4.5,
          3.7,
          3.2,
          3.3
         ],
         "xaxis": "x5",
         "y": [
          6.125,
          6.334,
          5.63,
          6.609,
          5.569,
          5.559,
          6.122,
          6.15,
          5.703,
          6.33,
          6.259,
          6.265,
          6.494,
          5.211
         ],
         "yaxis": "y5"
        },
        {
         "hovertemplate": "region=East Asia<br>Marriage=%{x}<br>Happiness Score=%{y}<extra></extra>",
         "legendgroup": "East Asia",
         "marker": {
          "color": "#19d3f3",
          "symbol": "circle"
         },
         "mode": "markers",
         "name": "East Asia",
         "orientation": "v",
         "showlegend": true,
         "type": "scatter",
         "x": [
          7.2,
          4.8,
          3.4,
          4.7
         ],
         "xaxis": "x6",
         "y": [
          5.818,
          6.129,
          5.84,
          5.951
         ],
         "yaxis": "y6"
        },
        {
         "hovertemplate": "region=Commonwealth of Independent States<br>Marriage=%{x}<br>Happiness Score=%{y}<extra></extra>",
         "legendgroup": "Commonwealth of Independent States",
         "marker": {
          "color": "#FF6692",
          "symbol": "circle"
         },
         "mode": "markers",
         "name": "Commonwealth of Independent States",
         "orientation": "v",
         "showlegend": true,
         "type": "scatter",
         "x": [
          7.3,
          9.7,
          13.5,
          7.8
         ],
         "xaxis": "x7",
         "y": [
          6.144,
          5.825,
          5.33,
          6.014
         ],
         "yaxis": "y7"
        },
        {
         "hovertemplate": "region=Southeast Asia<br>Marriage=%{x}<br>Happiness Score=%{y}<extra></extra>",
         "legendgroup": "Southeast Asia",
         "marker": {
          "color": "#B6E880",
          "symbol": "circle"
         },
         "mode": "markers",
         "name": "Southeast Asia",
         "orientation": "v",
         "showlegend": true,
         "type": "scatter",
         "x": [
          6.4,
          6.8,
          5.5,
          5.7
         ],
         "xaxis": "x8",
         "y": [
          6.012,
          6.587,
          5.843,
          5.763
         ],
         "yaxis": "y8"
        },
        {
         "hovertemplate": "region=Sub-Saharan Africa<br>Marriage=%{x}<br>Happiness Score=%{y}<extra></extra>",
         "legendgroup": "Sub-Saharan Africa",
         "marker": {
          "color": "#FF97FF",
          "symbol": "circle"
         },
         "mode": "markers",
         "name": "Sub-Saharan Africa",
         "orientation": "v",
         "showlegend": true,
         "type": "scatter",
         "x": [
          8.2,
          3.5
         ],
         "xaxis": "x",
         "y": [
          5.902,
          5.275
         ],
         "yaxis": "y"
        },
        {
         "hovertemplate": "region=South Asia<br>Marriage=%{x}<br>Happiness Score=%{y}<extra></extra>",
         "legendgroup": "South Asia",
         "marker": {
          "color": "#FECB52",
          "symbol": "circle"
         },
         "mode": "markers",
         "name": "South Asia",
         "orientation": "v",
         "showlegend": true,
         "type": "scatter",
         "x": [
          null
         ],
         "xaxis": "x2",
         "y": [
          4.442
         ],
         "yaxis": "y2"
        }
       ],
       "layout": {
        "annotations": [
         {
          "font": {},
          "showarrow": false,
          "text": "region=Sub-Saharan Africa",
          "x": 0.1175,
          "xanchor": "center",
          "xref": "paper",
          "y": 0.2866666666666666,
          "yanchor": "bottom",
          "yref": "paper"
         },
         {
          "font": {},
          "showarrow": false,
          "text": "region=South Asia",
          "x": 0.3725,
          "xanchor": "center",
          "xref": "paper",
          "y": 0.2866666666666666,
          "yanchor": "bottom",
          "yref": "paper"
         },
         {
          "font": {},
          "showarrow": false,
          "text": "region=Latin America and Caribbean",
          "x": 0.1175,
          "xanchor": "center",
          "xref": "paper",
          "y": 0.6433333333333333,
          "yanchor": "bottom",
          "yref": "paper"
         },
         {
          "font": {},
          "showarrow": false,
          "text": "region=East Asia",
          "x": 0.3725,
          "xanchor": "center",
          "xref": "paper",
          "y": 0.6433333333333333,
          "yanchor": "bottom",
          "yref": "paper"
         },
         {
          "font": {},
          "showarrow": false,
          "text": "region=Commonwealth of Independent States",
          "x": 0.6275,
          "xanchor": "center",
          "xref": "paper",
          "y": 0.6433333333333333,
          "yanchor": "bottom",
          "yref": "paper"
         },
         {
          "font": {},
          "showarrow": false,
          "text": "region=Southeast Asia",
          "x": 0.8824999999999998,
          "xanchor": "center",
          "xref": "paper",
          "y": 0.6433333333333333,
          "yanchor": "bottom",
          "yref": "paper"
         },
         {
          "font": {},
          "showarrow": false,
          "text": "region=Central and Eastern Europe",
          "x": 0.1175,
          "xanchor": "center",
          "xref": "paper",
          "y": 0.9999999999999999,
          "yanchor": "bottom",
          "yref": "paper"
         },
         {
          "font": {},
          "showarrow": false,
          "text": "region=Middle East and North Africa",
          "x": 0.3725,
          "xanchor": "center",
          "xref": "paper",
          "y": 0.9999999999999999,
          "yanchor": "bottom",
          "yref": "paper"
         },
         {
          "font": {},
          "showarrow": false,
          "text": "region=North America and ANZ",
          "x": 0.6275,
          "xanchor": "center",
          "xref": "paper",
          "y": 0.9999999999999999,
          "yanchor": "bottom",
          "yref": "paper"
         },
         {
          "font": {},
          "showarrow": false,
          "text": "region=Western Europe",
          "x": 0.8824999999999998,
          "xanchor": "center",
          "xref": "paper",
          "y": 0.9999999999999999,
          "yanchor": "bottom",
          "yref": "paper"
         }
        ],
        "height": 600,
        "legend": {
         "title": {
          "text": "region"
         },
         "tracegroupgap": 0
        },
        "template": {
         "data": {
          "bar": [
           {
            "error_x": {
             "color": "#2a3f5f"
            },
            "error_y": {
             "color": "#2a3f5f"
            },
            "marker": {
             "line": {
              "color": "#E5ECF6",
              "width": 0.5
             },
             "pattern": {
              "fillmode": "overlay",
              "size": 10,
              "solidity": 0.2
             }
            },
            "type": "bar"
           }
          ],
          "barpolar": [
           {
            "marker": {
             "line": {
              "color": "#E5ECF6",
              "width": 0.5
             },
             "pattern": {
              "fillmode": "overlay",
              "size": 10,
              "solidity": 0.2
             }
            },
            "type": "barpolar"
           }
          ],
          "carpet": [
           {
            "aaxis": {
             "endlinecolor": "#2a3f5f",
             "gridcolor": "white",
             "linecolor": "white",
             "minorgridcolor": "white",
             "startlinecolor": "#2a3f5f"
            },
            "baxis": {
             "endlinecolor": "#2a3f5f",
             "gridcolor": "white",
             "linecolor": "white",
             "minorgridcolor": "white",
             "startlinecolor": "#2a3f5f"
            },
            "type": "carpet"
           }
          ],
          "choropleth": [
           {
            "colorbar": {
             "outlinewidth": 0,
             "ticks": ""
            },
            "type": "choropleth"
           }
          ],
          "contour": [
           {
            "colorbar": {
             "outlinewidth": 0,
             "ticks": ""
            },
            "colorscale": [
             [
              0,
              "#0d0887"
             ],
             [
              0.1111111111111111,
              "#46039f"
             ],
             [
              0.2222222222222222,
              "#7201a8"
             ],
             [
              0.3333333333333333,
              "#9c179e"
             ],
             [
              0.4444444444444444,
              "#bd3786"
             ],
             [
              0.5555555555555556,
              "#d8576b"
             ],
             [
              0.6666666666666666,
              "#ed7953"
             ],
             [
              0.7777777777777778,
              "#fb9f3a"
             ],
             [
              0.8888888888888888,
              "#fdca26"
             ],
             [
              1,
              "#f0f921"
             ]
            ],
            "type": "contour"
           }
          ],
          "contourcarpet": [
           {
            "colorbar": {
             "outlinewidth": 0,
             "ticks": ""
            },
            "type": "contourcarpet"
           }
          ],
          "heatmap": [
           {
            "colorbar": {
             "outlinewidth": 0,
             "ticks": ""
            },
            "colorscale": [
             [
              0,
              "#0d0887"
             ],
             [
              0.1111111111111111,
              "#46039f"
             ],
             [
              0.2222222222222222,
              "#7201a8"
             ],
             [
              0.3333333333333333,
              "#9c179e"
             ],
             [
              0.4444444444444444,
              "#bd3786"
             ],
             [
              0.5555555555555556,
              "#d8576b"
             ],
             [
              0.6666666666666666,
              "#ed7953"
             ],
             [
              0.7777777777777778,
              "#fb9f3a"
             ],
             [
              0.8888888888888888,
              "#fdca26"
             ],
             [
              1,
              "#f0f921"
             ]
            ],
            "type": "heatmap"
           }
          ],
          "heatmapgl": [
           {
            "colorbar": {
             "outlinewidth": 0,
             "ticks": ""
            },
            "colorscale": [
             [
              0,
              "#0d0887"
             ],
             [
              0.1111111111111111,
              "#46039f"
             ],
             [
              0.2222222222222222,
              "#7201a8"
             ],
             [
              0.3333333333333333,
              "#9c179e"
             ],
             [
              0.4444444444444444,
              "#bd3786"
             ],
             [
              0.5555555555555556,
              "#d8576b"
             ],
             [
              0.6666666666666666,
              "#ed7953"
             ],
             [
              0.7777777777777778,
              "#fb9f3a"
             ],
             [
              0.8888888888888888,
              "#fdca26"
             ],
             [
              1,
              "#f0f921"
             ]
            ],
            "type": "heatmapgl"
           }
          ],
          "histogram": [
           {
            "marker": {
             "pattern": {
              "fillmode": "overlay",
              "size": 10,
              "solidity": 0.2
             }
            },
            "type": "histogram"
           }
          ],
          "histogram2d": [
           {
            "colorbar": {
             "outlinewidth": 0,
             "ticks": ""
            },
            "colorscale": [
             [
              0,
              "#0d0887"
             ],
             [
              0.1111111111111111,
              "#46039f"
             ],
             [
              0.2222222222222222,
              "#7201a8"
             ],
             [
              0.3333333333333333,
              "#9c179e"
             ],
             [
              0.4444444444444444,
              "#bd3786"
             ],
             [
              0.5555555555555556,
              "#d8576b"
             ],
             [
              0.6666666666666666,
              "#ed7953"
             ],
             [
              0.7777777777777778,
              "#fb9f3a"
             ],
             [
              0.8888888888888888,
              "#fdca26"
             ],
             [
              1,
              "#f0f921"
             ]
            ],
            "type": "histogram2d"
           }
          ],
          "histogram2dcontour": [
           {
            "colorbar": {
             "outlinewidth": 0,
             "ticks": ""
            },
            "colorscale": [
             [
              0,
              "#0d0887"
             ],
             [
              0.1111111111111111,
              "#46039f"
             ],
             [
              0.2222222222222222,
              "#7201a8"
             ],
             [
              0.3333333333333333,
              "#9c179e"
             ],
             [
              0.4444444444444444,
              "#bd3786"
             ],
             [
              0.5555555555555556,
              "#d8576b"
             ],
             [
              0.6666666666666666,
              "#ed7953"
             ],
             [
              0.7777777777777778,
              "#fb9f3a"
             ],
             [
              0.8888888888888888,
              "#fdca26"
             ],
             [
              1,
              "#f0f921"
             ]
            ],
            "type": "histogram2dcontour"
           }
          ],
          "mesh3d": [
           {
            "colorbar": {
             "outlinewidth": 0,
             "ticks": ""
            },
            "type": "mesh3d"
           }
          ],
          "parcoords": [
           {
            "line": {
             "colorbar": {
              "outlinewidth": 0,
              "ticks": ""
             }
            },
            "type": "parcoords"
           }
          ],
          "pie": [
           {
            "automargin": true,
            "type": "pie"
           }
          ],
          "scatter": [
           {
            "fillpattern": {
             "fillmode": "overlay",
             "size": 10,
             "solidity": 0.2
            },
            "type": "scatter"
           }
          ],
          "scatter3d": [
           {
            "line": {
             "colorbar": {
              "outlinewidth": 0,
              "ticks": ""
             }
            },
            "marker": {
             "colorbar": {
              "outlinewidth": 0,
              "ticks": ""
             }
            },
            "type": "scatter3d"
           }
          ],
          "scattercarpet": [
           {
            "marker": {
             "colorbar": {
              "outlinewidth": 0,
              "ticks": ""
             }
            },
            "type": "scattercarpet"
           }
          ],
          "scattergeo": [
           {
            "marker": {
             "colorbar": {
              "outlinewidth": 0,
              "ticks": ""
             }
            },
            "type": "scattergeo"
           }
          ],
          "scattergl": [
           {
            "marker": {
             "colorbar": {
              "outlinewidth": 0,
              "ticks": ""
             }
            },
            "type": "scattergl"
           }
          ],
          "scattermapbox": [
           {
            "marker": {
             "colorbar": {
              "outlinewidth": 0,
              "ticks": ""
             }
            },
            "type": "scattermapbox"
           }
          ],
          "scatterpolar": [
           {
            "marker": {
             "colorbar": {
              "outlinewidth": 0,
              "ticks": ""
             }
            },
            "type": "scatterpolar"
           }
          ],
          "scatterpolargl": [
           {
            "marker": {
             "colorbar": {
              "outlinewidth": 0,
              "ticks": ""
             }
            },
            "type": "scatterpolargl"
           }
          ],
          "scatterternary": [
           {
            "marker": {
             "colorbar": {
              "outlinewidth": 0,
              "ticks": ""
             }
            },
            "type": "scatterternary"
           }
          ],
          "surface": [
           {
            "colorbar": {
             "outlinewidth": 0,
             "ticks": ""
            },
            "colorscale": [
             [
              0,
              "#0d0887"
             ],
             [
              0.1111111111111111,
              "#46039f"
             ],
             [
              0.2222222222222222,
              "#7201a8"
             ],
             [
              0.3333333333333333,
              "#9c179e"
             ],
             [
              0.4444444444444444,
              "#bd3786"
             ],
             [
              0.5555555555555556,
              "#d8576b"
             ],
             [
              0.6666666666666666,
              "#ed7953"
             ],
             [
              0.7777777777777778,
              "#fb9f3a"
             ],
             [
              0.8888888888888888,
              "#fdca26"
             ],
             [
              1,
              "#f0f921"
             ]
            ],
            "type": "surface"
           }
          ],
          "table": [
           {
            "cells": {
             "fill": {
              "color": "#EBF0F8"
             },
             "line": {
              "color": "white"
             }
            },
            "header": {
             "fill": {
              "color": "#C8D4E3"
             },
             "line": {
              "color": "white"
             }
            },
            "type": "table"
           }
          ]
         },
         "layout": {
          "annotationdefaults": {
           "arrowcolor": "#2a3f5f",
           "arrowhead": 0,
           "arrowwidth": 1
          },
          "autotypenumbers": "strict",
          "coloraxis": {
           "colorbar": {
            "outlinewidth": 0,
            "ticks": ""
           }
          },
          "colorscale": {
           "diverging": [
            [
             0,
             "#8e0152"
            ],
            [
             0.1,
             "#c51b7d"
            ],
            [
             0.2,
             "#de77ae"
            ],
            [
             0.3,
             "#f1b6da"
            ],
            [
             0.4,
             "#fde0ef"
            ],
            [
             0.5,
             "#f7f7f7"
            ],
            [
             0.6,
             "#e6f5d0"
            ],
            [
             0.7,
             "#b8e186"
            ],
            [
             0.8,
             "#7fbc41"
            ],
            [
             0.9,
             "#4d9221"
            ],
            [
             1,
             "#276419"
            ]
           ],
           "sequential": [
            [
             0,
             "#0d0887"
            ],
            [
             0.1111111111111111,
             "#46039f"
            ],
            [
             0.2222222222222222,
             "#7201a8"
            ],
            [
             0.3333333333333333,
             "#9c179e"
            ],
            [
             0.4444444444444444,
             "#bd3786"
            ],
            [
             0.5555555555555556,
             "#d8576b"
            ],
            [
             0.6666666666666666,
             "#ed7953"
            ],
            [
             0.7777777777777778,
             "#fb9f3a"
            ],
            [
             0.8888888888888888,
             "#fdca26"
            ],
            [
             1,
             "#f0f921"
            ]
           ],
           "sequentialminus": [
            [
             0,
             "#0d0887"
            ],
            [
             0.1111111111111111,
             "#46039f"
            ],
            [
             0.2222222222222222,
             "#7201a8"
            ],
            [
             0.3333333333333333,
             "#9c179e"
            ],
            [
             0.4444444444444444,
             "#bd3786"
            ],
            [
             0.5555555555555556,
             "#d8576b"
            ],
            [
             0.6666666666666666,
             "#ed7953"
            ],
            [
             0.7777777777777778,
             "#fb9f3a"
            ],
            [
             0.8888888888888888,
             "#fdca26"
            ],
            [
             1,
             "#f0f921"
            ]
           ]
          },
          "colorway": [
           "#636efa",
           "#EF553B",
           "#00cc96",
           "#ab63fa",
           "#FFA15A",
           "#19d3f3",
           "#FF6692",
           "#B6E880",
           "#FF97FF",
           "#FECB52"
          ],
          "font": {
           "color": "#2a3f5f"
          },
          "geo": {
           "bgcolor": "white",
           "lakecolor": "white",
           "landcolor": "#E5ECF6",
           "showlakes": true,
           "showland": true,
           "subunitcolor": "white"
          },
          "hoverlabel": {
           "align": "left"
          },
          "hovermode": "closest",
          "mapbox": {
           "style": "light"
          },
          "paper_bgcolor": "white",
          "plot_bgcolor": "#E5ECF6",
          "polar": {
           "angularaxis": {
            "gridcolor": "white",
            "linecolor": "white",
            "ticks": ""
           },
           "bgcolor": "#E5ECF6",
           "radialaxis": {
            "gridcolor": "white",
            "linecolor": "white",
            "ticks": ""
           }
          },
          "scene": {
           "xaxis": {
            "backgroundcolor": "#E5ECF6",
            "gridcolor": "white",
            "gridwidth": 2,
            "linecolor": "white",
            "showbackground": true,
            "ticks": "",
            "zerolinecolor": "white"
           },
           "yaxis": {
            "backgroundcolor": "#E5ECF6",
            "gridcolor": "white",
            "gridwidth": 2,
            "linecolor": "white",
            "showbackground": true,
            "ticks": "",
            "zerolinecolor": "white"
           },
           "zaxis": {
            "backgroundcolor": "#E5ECF6",
            "gridcolor": "white",
            "gridwidth": 2,
            "linecolor": "white",
            "showbackground": true,
            "ticks": "",
            "zerolinecolor": "white"
           }
          },
          "shapedefaults": {
           "line": {
            "color": "#2a3f5f"
           }
          },
          "ternary": {
           "aaxis": {
            "gridcolor": "white",
            "linecolor": "white",
            "ticks": ""
           },
           "baxis": {
            "gridcolor": "white",
            "linecolor": "white",
            "ticks": ""
           },
           "bgcolor": "#E5ECF6",
           "caxis": {
            "gridcolor": "white",
            "linecolor": "white",
            "ticks": ""
           }
          },
          "title": {
           "x": 0.05
          },
          "xaxis": {
           "automargin": true,
           "gridcolor": "white",
           "linecolor": "white",
           "ticks": "",
           "title": {
            "standoff": 15
           },
           "zerolinecolor": "white",
           "zerolinewidth": 2
          },
          "yaxis": {
           "automargin": true,
           "gridcolor": "white",
           "linecolor": "white",
           "ticks": "",
           "title": {
            "standoff": 15
           },
           "zerolinecolor": "white",
           "zerolinewidth": 2
          }
         }
        },
        "title": {
         "text": "IQ vs. Happiness Score by Region"
        },
        "width": 1000,
        "xaxis": {
         "anchor": "y",
         "domain": [
          0,
          0.235
         ],
         "title": {
          "text": "Marriage"
         }
        },
        "xaxis10": {
         "anchor": "y10",
         "domain": [
          0.255,
          0.49
         ],
         "matches": "x",
         "showticklabels": false
        },
        "xaxis11": {
         "anchor": "y11",
         "domain": [
          0.51,
          0.745
         ],
         "matches": "x",
         "showticklabels": false
        },
        "xaxis12": {
         "anchor": "y12",
         "domain": [
          0.7649999999999999,
          0.9999999999999999
         ],
         "matches": "x",
         "showticklabels": false
        },
        "xaxis2": {
         "anchor": "y2",
         "domain": [
          0.255,
          0.49
         ],
         "matches": "x",
         "title": {
          "text": "Marriage"
         }
        },
        "xaxis3": {
         "anchor": "y3",
         "domain": [
          0.51,
          0.745
         ],
         "matches": "x",
         "title": {
          "text": "Marriage"
         }
        },
        "xaxis4": {
         "anchor": "y4",
         "domain": [
          0.7649999999999999,
          0.9999999999999999
         ],
         "matches": "x",
         "title": {
          "text": "Marriage"
         }
        },
        "xaxis5": {
         "anchor": "y5",
         "domain": [
          0,
          0.235
         ],
         "matches": "x",
         "showticklabels": false
        },
        "xaxis6": {
         "anchor": "y6",
         "domain": [
          0.255,
          0.49
         ],
         "matches": "x",
         "showticklabels": false
        },
        "xaxis7": {
         "anchor": "y7",
         "domain": [
          0.51,
          0.745
         ],
         "matches": "x",
         "showticklabels": false
        },
        "xaxis8": {
         "anchor": "y8",
         "domain": [
          0.7649999999999999,
          0.9999999999999999
         ],
         "matches": "x",
         "showticklabels": false
        },
        "xaxis9": {
         "anchor": "y9",
         "domain": [
          0,
          0.235
         ],
         "matches": "x",
         "showticklabels": false
        },
        "yaxis": {
         "anchor": "x",
         "domain": [
          0,
          0.2866666666666666
         ],
         "title": {
          "text": "Happiness Score"
         }
        },
        "yaxis10": {
         "anchor": "x10",
         "domain": [
          0.7133333333333333,
          0.9999999999999999
         ],
         "matches": "y",
         "showticklabels": false
        },
        "yaxis11": {
         "anchor": "x11",
         "domain": [
          0.7133333333333333,
          0.9999999999999999
         ],
         "matches": "y",
         "showticklabels": false
        },
        "yaxis12": {
         "anchor": "x12",
         "domain": [
          0.7133333333333333,
          0.9999999999999999
         ],
         "matches": "y",
         "showticklabels": false
        },
        "yaxis2": {
         "anchor": "x2",
         "domain": [
          0,
          0.2866666666666666
         ],
         "matches": "y",
         "showticklabels": false
        },
        "yaxis3": {
         "anchor": "x3",
         "domain": [
          0,
          0.2866666666666666
         ],
         "matches": "y",
         "showticklabels": false
        },
        "yaxis4": {
         "anchor": "x4",
         "domain": [
          0,
          0.2866666666666666
         ],
         "matches": "y",
         "showticklabels": false
        },
        "yaxis5": {
         "anchor": "x5",
         "domain": [
          0.35666666666666663,
          0.6433333333333333
         ],
         "matches": "y",
         "title": {
          "text": "Happiness Score"
         }
        },
        "yaxis6": {
         "anchor": "x6",
         "domain": [
          0.35666666666666663,
          0.6433333333333333
         ],
         "matches": "y",
         "showticklabels": false
        },
        "yaxis7": {
         "anchor": "x7",
         "domain": [
          0.35666666666666663,
          0.6433333333333333
         ],
         "matches": "y",
         "showticklabels": false
        },
        "yaxis8": {
         "anchor": "x8",
         "domain": [
          0.35666666666666663,
          0.6433333333333333
         ],
         "matches": "y",
         "showticklabels": false
        },
        "yaxis9": {
         "anchor": "x9",
         "domain": [
          0.7133333333333333,
          0.9999999999999999
         ],
         "matches": "y",
         "title": {
          "text": "Happiness Score"
         }
        }
       }
      }
     },
     "metadata": {},
     "output_type": "display_data"
    }
   ],
   "source": [
    "import plotly.express as px\n",
    "\n",
    "# Assuming 'iq_happy_data' has 'IQ', 'happiness_score', and 'region' columns\n",
    "fig = px.scatter(\n",
    "    marriage_happiness,\n",
    "    x='Marriage',\n",
    "    y='happiness_score',\n",
    "    color='region',\n",
    "    facet_col='region',\n",
    "    facet_col_wrap=4,\n",
    "    title='IQ vs. Happiness Score by Region',\n",
    "    labels={'IQ': 'IQ', 'happiness_score': 'Happiness Score'}\n",
    ")\n",
    "fig.update_layout(height=600, width=1000)\n",
    "fig.show()"
   ]
  },
  {
   "cell_type": "code",
   "execution_count": 72,
   "metadata": {},
   "outputs": [],
   "source": [
    "less_marriage = marriage_happiness[marriage_happiness['Marriage'] <= 7]"
   ]
  },
  {
   "cell_type": "code",
   "execution_count": 89,
   "metadata": {},
   "outputs": [
    {
     "data": {
      "image/png": "[encoded data removed]",
      "text/plain": [
       "<Figure size 800x600 with 2 Axes>"
      ]
     },
     "metadata": {},
     "output_type": "display_data"
    }
   ],
   "source": [
    "# 5. Heatmap of Correlations\n",
    "corr_matrix = less_marriage[['Marriage', 'Divorce', 'happiness_score']].corr()\n",
    "plt.figure(figsize=(8, 6))\n",
    "sns.heatmap(corr_matrix, annot=True, cmap='coolwarm', vmin=-1, vmax=1)\n",
    "plt.title('Correlation Matrix of Marriage, Divorce, and Happiness Scores')\n",
    "plt.show()"
   ]
  },
  {
   "cell_type": "code",
   "execution_count": 73,
   "metadata": {},
   "outputs": [
    {
     "data": {
      "application/vnd.plotly.v1+json": {
       "config": {
        "plotlyServerURL": "https://plot.ly"
       },
       "data": [
        {
         "hovertemplate": "<b>%{hovertext}</b><br><br>Marriage Rate (%)=%{x}<br>Happiness Score=%{y}<br>gdp_per_capita=%{marker.size}<br>Divorce Rate (%)=%{marker.color}<extra></extra>",
         "hovertext": [
          "Armenia",
          "Australia",
          "Austria",
          "Belgium",
          "Bosnia and Herzegovina",
          "Brazil",
          "Bulgaria",
          "Canada",
          "Chile",
          "Colombia",
          "Costa Rica",
          "Croatia",
          "Cyprus",
          "Denmark",
          "Dominican Republic",
          "Ecuador",
          "El Salvador",
          "Estonia",
          "Finland",
          "France",
          "Georgia",
          "Germany",
          "Greece",
          "Guatemala",
          "Hungary",
          "Iceland",
          "Ireland",
          "Israel",
          "Italy",
          "Japan",
          "Jordan",
          "Latvia",
          "Lithuania",
          "Luxembourg",
          "Malaysia",
          "Malta",
          "Mexico",
          "Mongolia",
          "Montenegro",
          "Netherlands",
          "New Zealand",
          "Nicaragua",
          "Norway",
          "Panama",
          "Poland",
          "Portugal",
          "Russia",
          "Saudi Arabia",
          "Serbia",
          "Singapore",
          "Slovakia",
          "Slovenia",
          "South Africa",
          "South Korea",
          "Spain",
          "Sweden",
          "Switzerland",
          "Thailand",
          "Ukraine",
          "United Arab Emirates",
          "United Kingdom",
          "United States",
          "Uruguay",
          "Venezuela",
          "Vietnam"
         ],
         "legendgroup": "",
         "marker": {
          "color": [
           1,
           2,
           1.8,
           2.1,
           0.6,
           1.4,
           1.5,
           2.1,
           0.7,
           0.7,
           2.5,
           1.5,
           2.2,
           2.6,
           1.8,
           1.1,
           0.8,
           2.4,
           2.4,
           1.9,
           1.3,
           1.9,
           1.8,
           1.2,
           1.7,
           1.8,
           0.7,
           1.8,
           1.5,
           1.7,
           1.8,
           3.1,
           3.1,
           2.3,
           1.6,
           0.7,
           0.9,
           1.1,
           1.4,
           1.8,
           2,
           0.8,
           1.9,
           1,
           1.7,
           1.7,
           3.9,
           2.1,
           1.4,
           1.9,
           1.8,
           1.1,
           0.6,
           2.2,
           1.6,
           2.5,
           2,
           1.4,
           2.88,
           0.7,
           1.8,
           2.3,
           null,
           1.2,
           0.4
          ],
          "coloraxis": "coloraxis",
          "size": [
           1.466,
           1.899,
           1.927,
           1.907,
           1.467,
           1.454,
           1.635,
           1.881,
           1.645,
           1.455,
           1.587,
           1.727,
           1.824,
           1.949,
           1.536,
           1.343,
           1.278,
           1.798,
           1.888,
           1.856,
           1.477,
           1.919,
           1.708,
           1.287,
           1.754,
           1.926,
           2.152,
           1.833,
           1.832,
           1.825,
           1.292,
           1.737,
           1.808,
           2.2,
           1.665,
           1.841,
           1.55,
           1.379,
           1.537,
           1.942,
           1.842,
           1.109,
           1.994,
           1.714,
           1.767,
           1.758,
           1.68,
           1.861,
           1.552,
           2.168,
           1.731,
           1.815,
           1.417,
           1.853,
           1.798,
           1.921,
           2.022,
           1.515,
           1.358,
           2.015,
           1.857,
           1.98,
           1.617,
           0,
           1.349
          ],
          "sizemode": "area",
          "sizeref": 0.0055000000000000005,
          "symbol": "circle"
         },
         "mode": "markers",
         "name": "",
         "orientation": "v",
         "showlegend": false,
         "type": "scatter",
         "x": [
          6,
          4.6,
          5.3,
          3.9,
          4.8,
          6.6,
          4.1,
          4.4,
          3.3,
          2.3,
          5.3,
          4.9,
          6.8,
          5.6,
          4.4,
          5.6,
          3.5,
          5,
          4.3,
          3.7,
          6.9,
          4.9,
          4.7,
          3.8,
          5.2,
          4.9,
          4.6,
          6.5,
          3.2,
          4.8,
          6.7,
          6.8,
          7,
          2.9,
          6.4,
          5.8,
          5.2,
          3.4,
          5.3,
          3.7,
          4.8,
          4.5,
          4.3,
          3.7,
          5.1,
          1.8,
          5.3,
          5.6,
          5.2,
          6.8,
          5.7,
          3.5,
          3.5,
          4.7,
          1.9,
          5,
          4.8,
          5.5,
          4.06,
          2.8,
          4.4,
          5.1,
          3.2,
          3.3,
          5.7
         ],
         "xaxis": "x",
         "y": [
          5.342,
          7.095,
          7.097,
          6.859,
          5.633,
          6.125,
          5.466,
          6.961,
          6.334,
          5.63,
          6.609,
          6.125,
          6.13,
          7.586,
          5.569,
          5.559,
          6.122,
          6.455,
          7.804,
          6.661,
          5.109,
          6.892,
          5.931,
          6.15,
          6.041,
          7.53,
          6.911,
          7.473,
          6.405,
          6.129,
          4.12,
          6.213,
          6.763,
          7.228,
          6.012,
          6.3,
          6.33,
          5.84,
          5.722,
          7.403,
          7.123,
          6.259,
          7.315,
          6.265,
          6.26,
          5.968,
          5.661,
          6.463,
          6.144,
          6.587,
          6.469,
          6.65,
          5.275,
          5.951,
          6.436,
          7.395,
          7.24,
          5.843,
          5.071,
          6.571,
          6.796,
          6.894,
          6.494,
          5.211,
          5.763
         ],
         "yaxis": "y"
        },
        {
         "alignmentgroup": "True",
         "bingroup": "x",
         "hovertemplate": "Marriage Rate (%)=%{x}<br>count=%{y}<extra></extra>",
         "legendgroup": "",
         "marker": {
          "color": "#0d0887"
         },
         "name": "",
         "offsetgroup": "",
         "opacity": 0.5,
         "showlegend": false,
         "type": "histogram",
         "x": [
          6,
          4.6,
          5.3,
          3.9,
          4.8,
          6.6,
          4.1,
          4.4,
          3.3,
          2.3,
          5.3,
          4.9,
          6.8,
          5.6,
          4.4,
          5.6,
          3.5,
          5,
          4.3,
          3.7,
          6.9,
          4.9,
          4.7,
          3.8,
          5.2,
          4.9,
          4.6,
          6.5,
          3.2,
          4.8,
          6.7,
          6.8,
          7,
          2.9,
          6.4,
          5.8,
          5.2,
          3.4,
          5.3,
          3.7,
          4.8,
          4.5,
          4.3,
          3.7,
          5.1,
          1.8,
          5.3,
          5.6,
          5.2,
          6.8,
          5.7,
          3.5,
          3.5,
          4.7,
          1.9,
          5,
          4.8,
          5.5,
          4.06,
          2.8,
          4.4,
          5.1,
          3.2,
          3.3,
          5.7
         ],
         "xaxis": "x3",
         "yaxis": "y3"
        },
        {
         "alignmentgroup": "True",
         "bingroup": "y",
         "hovertemplate": "Happiness Score=%{y}<br>count=%{x}<extra></extra>",
         "legendgroup": "",
         "marker": {
          "color": "#0d0887"
         },
         "name": "",
         "offsetgroup": "",
         "opacity": 0.5,
         "showlegend": false,
         "type": "histogram",
         "xaxis": "x2",
         "y": [
          5.342,
          7.095,
          7.097,
          6.859,
          5.633,
          6.125,
          5.466,
          6.961,
          6.334,
          5.63,
          6.609,
          6.125,
          6.13,
          7.586,
          5.569,
          5.559,
          6.122,
          6.455,
          7.804,
          6.661,
          5.109,
          6.892,
          5.931,
          6.15,
          6.041,
          7.53,
          6.911,
          7.473,
          6.405,
          6.129,
          4.12,
          6.213,
          6.763,
          7.228,
          6.012,
          6.3,
          6.33,
          5.84,
          5.722,
          7.403,
          7.123,
          6.259,
          7.315,
          6.265,
          6.26,
          5.968,
          5.661,
          6.463,
          6.144,
          6.587,
          6.469,
          6.65,
          5.275,
          5.951,
          6.436,
          7.395,
          7.24,
          5.843,
          5.071,
          6.571,
          6.796,
          6.894,
          6.494,
          5.211,
          5.763
         ],
         "yaxis": "y2"
        },
        {
         "hovertemplate": "<b>OLS trendline</b><br>happiness_score = -0.0440864 * Marriage + 6.54336<br>R<sup>2</sup>=0.005805<br><br>Marriage Rate (%)=%{x}<br>Happiness Score=%{y} <b>(trend)</b><extra></extra>",
         "legendgroup": "",
         "marker": {
          "symbol": "circle"
         },
         "mode": "lines",
         "name": "",
         "showlegend": false,
         "type": "scatter",
         "x": [
          1.8,
          1.9,
          2.3,
          2.8,
          2.9,
          3.2,
          3.2,
          3.3,
          3.3,
          3.4,
          3.5,
          3.5,
          3.5,
          3.7,
          3.7,
          3.7,
          3.8,
          3.9,
          4.06,
          4.1,
          4.3,
          4.3,
          4.4,
          4.4,
          4.4,
          4.5,
          4.6,
          4.6,
          4.7,
          4.7,
          4.8,
          4.8,
          4.8,
          4.8,
          4.9,
          4.9,
          4.9,
          5,
          5,
          5.1,
          5.1,
          5.2,
          5.2,
          5.2,
          5.3,
          5.3,
          5.3,
          5.3,
          5.5,
          5.6,
          5.6,
          5.6,
          5.7,
          5.7,
          5.8,
          6,
          6.4,
          6.5,
          6.6,
          6.7,
          6.8,
          6.8,
          6.8,
          6.9,
          7
         ],
         "xaxis": "x",
         "y": [
          6.464004299164083,
          6.459595663187163,
          6.441961119279482,
          6.419917939394883,
          6.415509303417962,
          6.402283395487202,
          6.402283395487202,
          6.397874759510282,
          6.397874759510282,
          6.393466123533362,
          6.389057487556442,
          6.389057487556442,
          6.389057487556442,
          6.380240215602602,
          6.380240215602602,
          6.380240215602602,
          6.3758315796256815,
          6.371422943648762,
          6.364369126085689,
          6.362605671694922,
          6.353788399741082,
          6.353788399741082,
          6.349379763764161,
          6.349379763764161,
          6.349379763764161,
          6.344971127787241,
          6.340562491810322,
          6.340562491810322,
          6.336153855833402,
          6.336153855833402,
          6.331745219856481,
          6.331745219856481,
          6.331745219856481,
          6.331745219856481,
          6.327336583879561,
          6.327336583879561,
          6.327336583879561,
          6.322927947902642,
          6.322927947902642,
          6.318519311925721,
          6.318519311925721,
          6.314110675948801,
          6.314110675948801,
          6.314110675948801,
          6.3097020399718815,
          6.3097020399718815,
          6.3097020399718815,
          6.3097020399718815,
          6.300884768018041,
          6.296476132041121,
          6.296476132041121,
          6.296476132041121,
          6.292067496064201,
          6.292067496064201,
          6.287658860087281,
          6.2788415881334405,
          6.261207044225761,
          6.256798408248841,
          6.25238977227192,
          6.247981136295,
          6.243572500318081,
          6.243572500318081,
          6.243572500318081,
          6.23916386434116,
          6.23475522836424
         ],
         "yaxis": "y"
        }
       ],
       "layout": {
        "barmode": "overlay",
        "coloraxis": {
         "colorbar": {
          "title": {
           "text": "Divorce Rate (%)"
          }
         },
         "colorscale": [
          [
           0,
           "#0d0887"
          ],
          [
           0.1111111111111111,
           "#46039f"
          ],
          [
           0.2222222222222222,
           "#7201a8"
          ],
          [
           0.3333333333333333,
           "#9c179e"
          ],
          [
           0.4444444444444444,
           "#bd3786"
          ],
          [
           0.5555555555555556,
           "#d8576b"
          ],
          [
           0.6666666666666666,
           "#ed7953"
          ],
          [
           0.7777777777777778,
           "#fb9f3a"
          ],
          [
           0.8888888888888888,
           "#fdca26"
          ],
          [
           1,
           "#f0f921"
          ]
         ]
        },
        "height": 700,
        "legend": {
         "itemsizing": "constant",
         "title": {
          "text": "Divorce Rate (%)"
         },
         "tracegroupgap": 0
        },
        "template": {
         "data": {
          "bar": [
           {
            "error_x": {
             "color": "#2a3f5f"
            },
            "error_y": {
             "color": "#2a3f5f"
            },
            "marker": {
             "line": {
              "color": "white",
              "width": 0.5
             },
             "pattern": {
              "fillmode": "overlay",
              "size": 10,
              "solidity": 0.2
             }
            },
            "type": "bar"
           }
          ],
          "barpolar": [
           {
            "marker": {
             "line": {
              "color": "white",
              "width": 0.5
             },
             "pattern": {
              "fillmode": "overlay",
              "size": 10,
              "solidity": 0.2
             }
            },
            "type": "barpolar"
           }
          ],
          "carpet": [
           {
            "aaxis": {
             "endlinecolor": "#2a3f5f",
             "gridcolor": "#C8D4E3",
             "linecolor": "#C8D4E3",
             "minorgridcolor": "#C8D4E3",
             "startlinecolor": "#2a3f5f"
            },
            "baxis": {
             "endlinecolor": "#2a3f5f",
             "gridcolor": "#C8D4E3",
             "linecolor": "#C8D4E3",
             "minorgridcolor": "#C8D4E3",
             "startlinecolor": "#2a3f5f"
            },
            "type": "carpet"
           }
          ],
          "choropleth": [
           {
            "colorbar": {
             "outlinewidth": 0,
             "ticks": ""
            },
            "type": "choropleth"
           }
          ],
          "contour": [
           {
            "colorbar": {
             "outlinewidth": 0,
             "ticks": ""
            },
            "colorscale": [
             [
              0,
              "#0d0887"
             ],
             [
              0.1111111111111111,
              "#46039f"
             ],
             [
              0.2222222222222222,
              "#7201a8"
             ],
             [
              0.3333333333333333,
              "#9c179e"
             ],
             [
              0.4444444444444444,
              "#bd3786"
             ],
             [
              0.5555555555555556,
              "#d8576b"
             ],
             [
              0.6666666666666666,
              "#ed7953"
             ],
             [
              0.7777777777777778,
              "#fb9f3a"
             ],
             [
              0.8888888888888888,
              "#fdca26"
             ],
             [
              1,
              "#f0f921"
             ]
            ],
            "type": "contour"
           }
          ],
          "contourcarpet": [
           {
            "colorbar": {
             "outlinewidth": 0,
             "ticks": ""
            },
            "type": "contourcarpet"
           }
          ],
          "heatmap": [
           {
            "colorbar": {
             "outlinewidth": 0,
             "ticks": ""
            },
            "colorscale": [
             [
              0,
              "#0d0887"
             ],
             [
              0.1111111111111111,
              "#46039f"
             ],
             [
              0.2222222222222222,
              "#7201a8"
             ],
             [
              0.3333333333333333,
              "#9c179e"
             ],
             [
              0.4444444444444444,
              "#bd3786"
             ],
             [
              0.5555555555555556,
              "#d8576b"
             ],
             [
              0.6666666666666666,
              "#ed7953"
             ],
             [
              0.7777777777777778,
              "#fb9f3a"
             ],
             [
              0.8888888888888888,
              "#fdca26"
             ],
             [
              1,
              "#f0f921"
             ]
            ],
            "type": "heatmap"
           }
          ],
          "heatmapgl": [
           {
            "colorbar": {
             "outlinewidth": 0,
             "ticks": ""
            },
            "colorscale": [
             [
              0,
              "#0d0887"
             ],
             [
              0.1111111111111111,
              "#46039f"
             ],
             [
              0.2222222222222222,
              "#7201a8"
             ],
             [
              0.3333333333333333,
              "#9c179e"
             ],
             [
              0.4444444444444444,
              "#bd3786"
             ],
             [
              0.5555555555555556,
              "#d8576b"
             ],
             [
              0.6666666666666666,
              "#ed7953"
             ],
             [
              0.7777777777777778,
              "#fb9f3a"
             ],
             [
              0.8888888888888888,
              "#fdca26"
             ],
             [
              1,
              "#f0f921"
             ]
            ],
            "type": "heatmapgl"
           }
          ],
          "histogram": [
           {
            "marker": {
             "pattern": {
              "fillmode": "overlay",
              "size": 10,
              "solidity": 0.2
             }
            },
            "type": "histogram"
           }
          ],
          "histogram2d": [
           {
            "colorbar": {
             "outlinewidth": 0,
             "ticks": ""
            },
            "colorscale": [
             [
              0,
              "#0d0887"
             ],
             [
              0.1111111111111111,
              "#46039f"
             ],
             [
              0.2222222222222222,
              "#7201a8"
             ],
             [
              0.3333333333333333,
              "#9c179e"
             ],
             [
              0.4444444444444444,
              "#bd3786"
             ],
             [
              0.5555555555555556,
              "#d8576b"
             ],
             [
              0.6666666666666666,
              "#ed7953"
             ],
             [
              0.7777777777777778,
              "#fb9f3a"
             ],
             [
              0.8888888888888888,
              "#fdca26"
             ],
             [
              1,
              "#f0f921"
             ]
            ],
            "type": "histogram2d"
           }
          ],
          "histogram2dcontour": [
           {
            "colorbar": {
             "outlinewidth": 0,
             "ticks": ""
            },
            "colorscale": [
             [
              0,
              "#0d0887"
             ],
             [
              0.1111111111111111,
              "#46039f"
             ],
             [
              0.2222222222222222,
              "#7201a8"
             ],
             [
              0.3333333333333333,
              "#9c179e"
             ],
             [
              0.4444444444444444,
              "#bd3786"
             ],
             [
              0.5555555555555556,
              "#d8576b"
             ],
             [
              0.6666666666666666,
              "#ed7953"
             ],
             [
              0.7777777777777778,
              "#fb9f3a"
             ],
             [
              0.8888888888888888,
              "#fdca26"
             ],
             [
              1,
              "#f0f921"
             ]
            ],
            "type": "histogram2dcontour"
           }
          ],
          "mesh3d": [
           {
            "colorbar": {
             "outlinewidth": 0,
             "ticks": ""
            },
            "type": "mesh3d"
           }
          ],
          "parcoords": [
           {
            "line": {
             "colorbar": {
              "outlinewidth": 0,
              "ticks": ""
             }
            },
            "type": "parcoords"
           }
          ],
          "pie": [
           {
            "automargin": true,
            "type": "pie"
           }
          ],
          "scatter": [
           {
            "fillpattern": {
             "fillmode": "overlay",
             "size": 10,
             "solidity": 0.2
            },
            "type": "scatter"
           }
          ],
          "scatter3d": [
           {
            "line": {
             "colorbar": {
              "outlinewidth": 0,
              "ticks": ""
             }
            },
            "marker": {
             "colorbar": {
              "outlinewidth": 0,
              "ticks": ""
             }
            },
            "type": "scatter3d"
           }
          ],
          "scattercarpet": [
           {
            "marker": {
             "colorbar": {
              "outlinewidth": 0,
              "ticks": ""
             }
            },
            "type": "scattercarpet"
           }
          ],
          "scattergeo": [
           {
            "marker": {
             "colorbar": {
              "outlinewidth": 0,
              "ticks": ""
             }
            },
            "type": "scattergeo"
           }
          ],
          "scattergl": [
           {
            "marker": {
             "colorbar": {
              "outlinewidth": 0,
              "ticks": ""
             }
            },
            "type": "scattergl"
           }
          ],
          "scattermapbox": [
           {
            "marker": {
             "colorbar": {
              "outlinewidth": 0,
              "ticks": ""
             }
            },
            "type": "scattermapbox"
           }
          ],
          "scatterpolar": [
           {
            "marker": {
             "colorbar": {
              "outlinewidth": 0,
              "ticks": ""
             }
            },
            "type": "scatterpolar"
           }
          ],
          "scatterpolargl": [
           {
            "marker": {
             "colorbar": {
              "outlinewidth": 0,
              "ticks": ""
             }
            },
            "type": "scatterpolargl"
           }
          ],
          "scatterternary": [
           {
            "marker": {
             "colorbar": {
              "outlinewidth": 0,
              "ticks": ""
             }
            },
            "type": "scatterternary"
           }
          ],
          "surface": [
           {
            "colorbar": {
             "outlinewidth": 0,
             "ticks": ""
            },
            "colorscale": [
             [
              0,
              "#0d0887"
             ],
             [
              0.1111111111111111,
              "#46039f"
             ],
             [
              0.2222222222222222,
              "#7201a8"
             ],
             [
              0.3333333333333333,
              "#9c179e"
             ],
             [
              0.4444444444444444,
              "#bd3786"
             ],
             [
              0.5555555555555556,
              "#d8576b"
             ],
             [
              0.6666666666666666,
              "#ed7953"
             ],
             [
              0.7777777777777778,
              "#fb9f3a"
             ],
             [
              0.8888888888888888,
              "#fdca26"
             ],
             [
              1,
              "#f0f921"
             ]
            ],
            "type": "surface"
           }
          ],
          "table": [
           {
            "cells": {
             "fill": {
              "color": "#EBF0F8"
             },
             "line": {
              "color": "white"
             }
            },
            "header": {
             "fill": {
              "color": "#C8D4E3"
             },
             "line": {
              "color": "white"
             }
            },
            "type": "table"
           }
          ]
         },
         "layout": {
          "annotationdefaults": {
           "arrowcolor": "#2a3f5f",
           "arrowhead": 0,
           "arrowwidth": 1
          },
          "autotypenumbers": "strict",
          "coloraxis": {
           "colorbar": {
            "outlinewidth": 0,
            "ticks": ""
           }
          },
          "colorscale": {
           "diverging": [
            [
             0,
             "#8e0152"
            ],
            [
             0.1,
             "#c51b7d"
            ],
            [
             0.2,
             "#de77ae"
            ],
            [
             0.3,
             "#f1b6da"
            ],
            [
             0.4,
             "#fde0ef"
            ],
            [
             0.5,
             "#f7f7f7"
            ],
            [
             0.6,
             "#e6f5d0"
            ],
            [
             0.7,
             "#b8e186"
            ],
            [
             0.8,
             "#7fbc41"
            ],
            [
             0.9,
             "#4d9221"
            ],
            [
             1,
             "#276419"
            ]
           ],
           "sequential": [
            [
             0,
             "#0d0887"
            ],
            [
             0.1111111111111111,
             "#46039f"
            ],
            [
             0.2222222222222222,
             "#7201a8"
            ],
            [
             0.3333333333333333,
             "#9c179e"
            ],
            [
             0.4444444444444444,
             "#bd3786"
            ],
            [
             0.5555555555555556,
             "#d8576b"
            ],
            [
             0.6666666666666666,
             "#ed7953"
            ],
            [
             0.7777777777777778,
             "#fb9f3a"
            ],
            [
             0.8888888888888888,
             "#fdca26"
            ],
            [
             1,
             "#f0f921"
            ]
           ],
           "sequentialminus": [
            [
             0,
             "#0d0887"
            ],
            [
             0.1111111111111111,
             "#46039f"
            ],
            [
             0.2222222222222222,
             "#7201a8"
            ],
            [
             0.3333333333333333,
             "#9c179e"
            ],
            [
             0.4444444444444444,
             "#bd3786"
            ],
            [
             0.5555555555555556,
             "#d8576b"
            ],
            [
             0.6666666666666666,
             "#ed7953"
            ],
            [
             0.7777777777777778,
             "#fb9f3a"
            ],
            [
             0.8888888888888888,
             "#fdca26"
            ],
            [
             1,
             "#f0f921"
            ]
           ]
          },
          "colorway": [
           "#636efa",
           "#EF553B",
           "#00cc96",
           "#ab63fa",
           "#FFA15A",
           "#19d3f3",
           "#FF6692",
           "#B6E880",
           "#FF97FF",
           "#FECB52"
          ],
          "font": {
           "color": "#2a3f5f"
          },
          "geo": {
           "bgcolor": "white",
           "lakecolor": "white",
           "landcolor": "white",
           "showlakes": true,
           "showland": true,
           "subunitcolor": "#C8D4E3"
          },
          "hoverlabel": {
           "align": "left"
          },
          "hovermode": "closest",
          "mapbox": {
           "style": "light"
          },
          "paper_bgcolor": "white",
          "plot_bgcolor": "white",
          "polar": {
           "angularaxis": {
            "gridcolor": "#EBF0F8",
            "linecolor": "#EBF0F8",
            "ticks": ""
           },
           "bgcolor": "white",
           "radialaxis": {
            "gridcolor": "#EBF0F8",
            "linecolor": "#EBF0F8",
            "ticks": ""
           }
          },
          "scene": {
           "xaxis": {
            "backgroundcolor": "white",
            "gridcolor": "#DFE8F3",
            "gridwidth": 2,
            "linecolor": "#EBF0F8",
            "showbackground": true,
            "ticks": "",
            "zerolinecolor": "#EBF0F8"
           },
           "yaxis": {
            "backgroundcolor": "white",
            "gridcolor": "#DFE8F3",
            "gridwidth": 2,
            "linecolor": "#EBF0F8",
            "showbackground": true,
            "ticks": "",
            "zerolinecolor": "#EBF0F8"
           },
           "zaxis": {
            "backgroundcolor": "white",
            "gridcolor": "#DFE8F3",
            "gridwidth": 2,
            "linecolor": "#EBF0F8",
            "showbackground": true,
            "ticks": "",
            "zerolinecolor": "#EBF0F8"
           }
          },
          "shapedefaults": {
           "line": {
            "color": "#2a3f5f"
           }
          },
          "ternary": {
           "aaxis": {
            "gridcolor": "#DFE8F3",
            "linecolor": "#A2B1C6",
            "ticks": ""
           },
           "baxis": {
            "gridcolor": "#DFE8F3",
            "linecolor": "#A2B1C6",
            "ticks": ""
           },
           "bgcolor": "white",
           "caxis": {
            "gridcolor": "#DFE8F3",
            "linecolor": "#A2B1C6",
            "ticks": ""
           }
          },
          "title": {
           "x": 0.05
          },
          "xaxis": {
           "automargin": true,
           "gridcolor": "#EBF0F8",
           "linecolor": "#EBF0F8",
           "ticks": "",
           "title": {
            "standoff": 15
           },
           "zerolinecolor": "#EBF0F8",
           "zerolinewidth": 2
          },
          "yaxis": {
           "automargin": true,
           "gridcolor": "#EBF0F8",
           "linecolor": "#EBF0F8",
           "ticks": "",
           "title": {
            "standoff": 15
           },
           "zerolinecolor": "#EBF0F8",
           "zerolinewidth": 2
          }
         }
        },
        "title": {
         "text": "Marriage Rate vs. Happiness Score"
        },
        "width": 1000,
        "xaxis": {
         "anchor": "y",
         "domain": [
          0,
          0.7363
         ],
         "title": {
          "text": "Marriage Rate (%)"
         }
        },
        "xaxis2": {
         "anchor": "y2",
         "domain": [
          0.7413,
          1
         ],
         "matches": "x2",
         "showgrid": true,
         "showline": false,
         "showticklabels": false,
         "ticks": ""
        },
        "xaxis3": {
         "anchor": "y3",
         "domain": [
          0,
          0.7363
         ],
         "matches": "x",
         "showgrid": true,
         "showticklabels": false
        },
        "xaxis4": {
         "anchor": "y4",
         "domain": [
          0.7413,
          1
         ],
         "matches": "x2",
         "showgrid": true,
         "showline": false,
         "showticklabels": false,
         "ticks": ""
        },
        "yaxis": {
         "anchor": "x",
         "domain": [
          0,
          0.7326
         ],
         "title": {
          "text": "Happiness Score"
         }
        },
        "yaxis2": {
         "anchor": "x2",
         "domain": [
          0,
          0.7326
         ],
         "matches": "y",
         "showgrid": true,
         "showticklabels": false
        },
        "yaxis3": {
         "anchor": "x3",
         "domain": [
          0.7426,
          1
         ],
         "matches": "y3",
         "showgrid": true,
         "showline": false,
         "showticklabels": false,
         "ticks": ""
        },
        "yaxis4": {
         "anchor": "x4",
         "domain": [
          0.7426,
          1
         ],
         "matches": "y3",
         "showgrid": true,
         "showline": false,
         "showticklabels": false,
         "ticks": ""
        }
       }
      }
     },
     "metadata": {},
     "output_type": "display_data"
    }
   ],
   "source": [
    "import plotly.express as px\n",
    "\n",
    "# Interactive Joint Plot: Marriage Rate vs. Happiness Score\n",
    "fig_joint = px.scatter(\n",
    "    less_marriage,\n",
    "    x='Marriage',\n",
    "    y='happiness_score',\n",
    "    color='Divorce',\n",
    "    size='gdp_per_capita',\n",
    "    hover_name='country',\n",
    "    marginal_x='histogram',\n",
    "    marginal_y='histogram',\n",
    "    trendline='ols',\n",
    "    title='Marriage Rate vs. Happiness Score',\n",
    "    labels={'Marriage': 'Marriage Rate (%)', 'happiness_score': 'Happiness Score', 'Divorce': 'Divorce Rate (%)'},\n",
    "    template='plotly_white'\n",
    ")\n",
    "\n",
    "fig_joint.update_layout(\n",
    "    height=700,\n",
    "    width=1000,\n",
    "    legend_title='Divorce Rate (%)'\n",
    ")\n",
    "\n",
    "fig_joint.show()"
   ]
  },
  {
   "cell_type": "code",
   "execution_count": null,
   "metadata": {},
   "outputs": [],
   "source": []
  }
 ],
 "metadata": {
  "kernelspec": {
   "display_name": ".venv",
   "language": "python",
   "name": "python3"
  },
  "language_info": {
   "codemirror_mode": {
    "name": "ipython",
    "version": 3
   },
   "file_extension": ".py",
   "mimetype": "text/x-python",
   "name": "python",
   "nbconvert_exporter": "python",
   "pygments_lexer": "ipython3",
   "version": "3.12.4"
  }
 },
 "nbformat": 4,
 "nbformat_minor": 2
}
