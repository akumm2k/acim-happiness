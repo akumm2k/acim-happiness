{
 "cells": [
  {
   "cell_type": "code",
   "execution_count": 8,
   "metadata": {},
   "outputs": [],
   "source": [
    "from dataset import CoffeeDataset\n",
    "import logging"
   ]
  },
  {
   "cell_type": "code",
   "execution_count": 9,
   "metadata": {},
   "outputs": [],
   "source": [
    "# logging configuration\n",
    "logging.basicConfig(\n",
    "    level=logging.INFO,\n",
    "    format=\"%(name)s:%(lineno)s [%(levelname)s]: %(message)s\",\n",
    ")"
   ]
  },
  {
   "cell_type": "code",
   "execution_count": 10,
   "metadata": {},
   "outputs": [
    {
     "name": "stderr",
     "output_type": "stream",
     "text": [
      "dataset:192 [INFO]: Loaded data for years: ['2015', '2016', '2017', '2018', '2019', '2020', '2021', '2022', '2023']\n"
     ]
    }
   ],
   "source": [
    "COFFEE_DATA = CoffeeDataset.from_kaggle()"
   ]
  },
  {
   "cell_type": "code",
   "execution_count": 11,
   "metadata": {},
   "outputs": [
    {
     "name": "stdout",
     "output_type": "stream",
     "text": [
      "✅ twenty_xy=2015 and xy=15 have the same df. :)\n",
      "✅ twenty_xy=2016 and xy=16 have the same df. :)\n",
      "✅ twenty_xy=2017 and xy=17 have the same df. :)\n",
      "✅ twenty_xy=2018 and xy=18 have the same df. :)\n",
      "✅ twenty_xy=2019 and xy=19 have the same df. :)\n",
      "✅ twenty_xy=2020 and xy=20 have the same df. :)\n",
      "✅ twenty_xy=2021 and xy=21 have the same df. :)\n",
      "✅ twenty_xy=2022 and xy=22 have the same df. :)\n",
      "✅ twenty_xy=2023 and xy=23 have the same df. :)\n"
     ]
    }
   ],
   "source": [
    "CHECK_MARK = \"\\u2705\"\n",
    "CROSS_MARK = \"\\u274C\"\n",
    "\n",
    "for twenty_xy_str in COFFEE_DATA.get_years():\n",
    "    twenty_xy = int(twenty_xy_str)\n",
    "    xy = twenty_xy - 2000\n",
    "\n",
    "    assert (\n",
    "        COFFEE_DATA[twenty_xy] is COFFEE_DATA[xy]\n",
    "    ), f\"{CROSS_MARK} failed at year {twenty_xy}\"\n",
    "\n",
    "    print(f\"{CHECK_MARK} {twenty_xy=} and {xy=} have the same df. :)\")"
   ]
  },
  {
   "cell_type": "code",
   "execution_count": null,
   "metadata": {},
   "outputs": [],
   "source": []
  }
 ],
 "metadata": {
  "kernelspec": {
   "display_name": ".venv",
   "language": "python",
   "name": "python3"
  },
  "language_info": {
   "codemirror_mode": {
    "name": "ipython",
    "version": 3
   },
   "file_extension": ".py",
   "mimetype": "text/x-python",
   "name": "python",
   "nbconvert_exporter": "python",
   "pygments_lexer": "ipython3",
   "version": "3.12.4"
  }
 },
 "nbformat": 4,
 "nbformat_minor": 2
}
