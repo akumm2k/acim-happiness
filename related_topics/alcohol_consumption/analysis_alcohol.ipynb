{
 "cells": [
  {
   "cell_type": "code",
   "execution_count": 1,
   "metadata": {},
   "outputs": [
    {
     "name": "stderr",
     "output_type": "stream",
     "text": [
      "/afs/ms.mff.cuni.cz/u/h/hovsepym/Desktop/AUTO/acim-happiness/.venv/lib/python3.12/site-packages/tqdm/auto.py:21: TqdmWarning: IProgress not found. Please update jupyter and ipywidgets. See https://ipywidgets.readthedocs.io/en/stable/user_install.html\n",
      "  from .autonotebook import tqdm as notebook_tqdm\n"
     ]
    }
   ],
   "source": [
    "from alcohol_dataset import AlcoholDataset\n",
    "import logging"
   ]
  },
  {
   "cell_type": "code",
   "execution_count": 2,
   "metadata": {},
   "outputs": [],
   "source": [
    "# logging configuration\n",
    "logging.basicConfig(\n",
    "    level=logging.INFO,\n",
    "    format=\"%(name)s:%(lineno)s [%(levelname)s]: %(message)s\",\n",
    ")"
   ]
  },
  {
   "cell_type": "code",
   "execution_count": 3,
   "metadata": {},
   "outputs": [
    {
     "name": "stderr",
     "output_type": "stream",
     "text": [
      "alcohol_dataset:71 [INFO]: Loaded data for years: ['2015', '2016', '2017', '2018', '2019', '2020', '2021', '2022']\n"
     ]
    }
   ],
   "source": [
    "ALCOHOL_DATA = AlcoholDataset.from_kaggle()"
   ]
  },
  {
   "cell_type": "code",
   "execution_count": 8,
   "metadata": {},
   "outputs": [
    {
     "name": "stdout",
     "output_type": "stream",
     "text": [
      "✅ twenty_xy=2015 and xy=15 have the same df. :)\n",
      "✅ twenty_xy=2016 and xy=16 have the same df. :)\n",
      "✅ twenty_xy=2017 and xy=17 have the same df. :)\n",
      "✅ twenty_xy=2018 and xy=18 have the same df. :)\n",
      "✅ twenty_xy=2019 and xy=19 have the same df. :)\n",
      "✅ twenty_xy=2020 and xy=20 have the same df. :)\n",
      "✅ twenty_xy=2021 and xy=21 have the same df. :)\n",
      "✅ twenty_xy=2022 and xy=22 have the same df. :)\n"
     ]
    }
   ],
   "source": [
    "CHECK_MARK = \"\\u2705\"\n",
    "CROSS_MARK = \"\\u274C\"\n",
    "\n",
    "for twenty_xy_str in ALCOHOL_DATA.get_years():\n",
    "    twenty_xy = int(twenty_xy_str)\n",
    "    xy = twenty_xy - 2000\n",
    "\n",
    "    assert (\n",
    "        ALCOHOL_DATA[twenty_xy] is ALCOHOL_DATA[xy]\n",
    "    ), f\"{CROSS_MARK} failed at year {twenty_xy}\"\n",
    "\n",
    "    print(f\"{CHECK_MARK} {twenty_xy=} and {xy=} have the same df. :)\")"
   ]
  },
  {
   "cell_type": "code",
   "execution_count": null,
   "metadata": {},
   "outputs": [],
   "source": []
  }
 ],
 "metadata": {
  "kernelspec": {
   "display_name": ".venv",
   "language": "python",
   "name": "python3"
  },
  "language_info": {
   "codemirror_mode": {
    "name": "ipython",
    "version": 3
   },
   "file_extension": ".py",
   "mimetype": "text/x-python",
   "name": "python",
   "nbconvert_exporter": "python",
   "pygments_lexer": "ipython3",
   "version": "3.12.6"
  }
 },
 "nbformat": 4,
 "nbformat_minor": 2
}
